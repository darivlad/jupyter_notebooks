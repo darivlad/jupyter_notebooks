{
 "cells": [
  {
   "cell_type": "markdown",
   "id": "7c84d122",
   "metadata": {},
   "source": [
    "# LendingClub Loan Data Analysis and Classification Model\n",
    "\n",
    "## The Data\n",
    "\n",
    "The dataset I will be using for this project was obtained from Kaggle and can be found here: https://www.kaggle.com/wordsforthewise/lending-club\n",
    "\n",
    "## The Goal\n",
    "\n",
    "LendingClub is a company that operates the world's largest peer-to-peer lending platform, which offers loan trading on a secondary market.\n",
    "\n",
    "Using the historical data on loans given out, my goal is to build a model that can predict whether a borrower will pay back on their loan or default. I will be using a variety of libraries to perform some beginning exploratory data anaylis and feature engineering, and then using Keras to build, train, and optimize my model!"
   ]
  },
  {
   "cell_type": "markdown",
   "id": "71a9492a",
   "metadata": {},
   "source": [
    "### 0. Data Overview\n",
    "\n",
    "**Goal:** Import the necessary libraries and the data that will be used for this project. "
   ]
  },
  {
   "cell_type": "code",
   "execution_count": 1,
   "id": "9427e0b6",
   "metadata": {},
   "outputs": [],
   "source": [
    "import pandas as pd\n",
    "import numpy as np\n",
    "import matplotlib.pyplot as plt\n",
    "import seaborn as sns\n",
    "\n",
    "%matplotlib inline"
   ]
  },
  {
   "cell_type": "code",
   "execution_count": 2,
   "id": "a56d8063",
   "metadata": {},
   "outputs": [],
   "source": [
    "#importing the feature data and descriptions to have as reference\n",
    "data_info = pd.read_csv('../DATA/lending_club_info.csv',index_col='LoanStatNew')"
   ]
  },
  {
   "cell_type": "code",
   "execution_count": 3,
   "id": "8896b56a",
   "metadata": {},
   "outputs": [
    {
     "data": {
      "text/html": [
       "<div>\n",
       "<style scoped>\n",
       "    .dataframe tbody tr th:only-of-type {\n",
       "        vertical-align: middle;\n",
       "    }\n",
       "\n",
       "    .dataframe tbody tr th {\n",
       "        vertical-align: top;\n",
       "    }\n",
       "\n",
       "    .dataframe thead th {\n",
       "        text-align: right;\n",
       "    }\n",
       "</style>\n",
       "<table border=\"1\" class=\"dataframe\">\n",
       "  <thead>\n",
       "    <tr style=\"text-align: right;\">\n",
       "      <th></th>\n",
       "      <th>Description</th>\n",
       "    </tr>\n",
       "    <tr>\n",
       "      <th>LoanStatNew</th>\n",
       "      <th></th>\n",
       "    </tr>\n",
       "  </thead>\n",
       "  <tbody>\n",
       "    <tr>\n",
       "      <th>loan_amnt</th>\n",
       "      <td>The listed amount of the loan applied for by t...</td>\n",
       "    </tr>\n",
       "    <tr>\n",
       "      <th>term</th>\n",
       "      <td>The number of payments on the loan. Values are...</td>\n",
       "    </tr>\n",
       "    <tr>\n",
       "      <th>int_rate</th>\n",
       "      <td>Interest Rate on the loan</td>\n",
       "    </tr>\n",
       "    <tr>\n",
       "      <th>installment</th>\n",
       "      <td>The monthly payment owed by the borrower if th...</td>\n",
       "    </tr>\n",
       "    <tr>\n",
       "      <th>grade</th>\n",
       "      <td>LC assigned loan grade</td>\n",
       "    </tr>\n",
       "    <tr>\n",
       "      <th>sub_grade</th>\n",
       "      <td>LC assigned loan subgrade</td>\n",
       "    </tr>\n",
       "    <tr>\n",
       "      <th>emp_title</th>\n",
       "      <td>The job title supplied by the Borrower when ap...</td>\n",
       "    </tr>\n",
       "    <tr>\n",
       "      <th>emp_length</th>\n",
       "      <td>Employment length in years. Possible values ar...</td>\n",
       "    </tr>\n",
       "    <tr>\n",
       "      <th>home_ownership</th>\n",
       "      <td>The home ownership status provided by the borr...</td>\n",
       "    </tr>\n",
       "    <tr>\n",
       "      <th>annual_inc</th>\n",
       "      <td>The self-reported annual income provided by th...</td>\n",
       "    </tr>\n",
       "    <tr>\n",
       "      <th>verification_status</th>\n",
       "      <td>Indicates if income was verified by LC, not ve...</td>\n",
       "    </tr>\n",
       "    <tr>\n",
       "      <th>issue_d</th>\n",
       "      <td>The month which the loan was funded</td>\n",
       "    </tr>\n",
       "    <tr>\n",
       "      <th>loan_status</th>\n",
       "      <td>Current status of the loan</td>\n",
       "    </tr>\n",
       "    <tr>\n",
       "      <th>purpose</th>\n",
       "      <td>A category provided by the borrower for the lo...</td>\n",
       "    </tr>\n",
       "    <tr>\n",
       "      <th>title</th>\n",
       "      <td>The loan title provided by the borrower</td>\n",
       "    </tr>\n",
       "    <tr>\n",
       "      <th>zip_code</th>\n",
       "      <td>The first 3 numbers of the zip code provided b...</td>\n",
       "    </tr>\n",
       "    <tr>\n",
       "      <th>addr_state</th>\n",
       "      <td>The state provided by the borrower in the loan...</td>\n",
       "    </tr>\n",
       "    <tr>\n",
       "      <th>dti</th>\n",
       "      <td>A ratio calculated using the borrower’s total ...</td>\n",
       "    </tr>\n",
       "    <tr>\n",
       "      <th>earliest_cr_line</th>\n",
       "      <td>The month the borrower's earliest reported cre...</td>\n",
       "    </tr>\n",
       "    <tr>\n",
       "      <th>open_acc</th>\n",
       "      <td>The number of open credit lines in the borrowe...</td>\n",
       "    </tr>\n",
       "    <tr>\n",
       "      <th>pub_rec</th>\n",
       "      <td>Number of derogatory public records</td>\n",
       "    </tr>\n",
       "    <tr>\n",
       "      <th>revol_bal</th>\n",
       "      <td>Total credit revolving balance</td>\n",
       "    </tr>\n",
       "    <tr>\n",
       "      <th>revol_util</th>\n",
       "      <td>Revolving line utilization rate, or the amount...</td>\n",
       "    </tr>\n",
       "    <tr>\n",
       "      <th>total_acc</th>\n",
       "      <td>The total number of credit lines currently in ...</td>\n",
       "    </tr>\n",
       "    <tr>\n",
       "      <th>initial_list_status</th>\n",
       "      <td>The initial listing status of the loan. Possib...</td>\n",
       "    </tr>\n",
       "    <tr>\n",
       "      <th>application_type</th>\n",
       "      <td>Indicates whether the loan is an individual ap...</td>\n",
       "    </tr>\n",
       "    <tr>\n",
       "      <th>mort_acc</th>\n",
       "      <td>Number of mortgage accounts.</td>\n",
       "    </tr>\n",
       "    <tr>\n",
       "      <th>pub_rec_bankruptcies</th>\n",
       "      <td>Number of public record bankruptcies</td>\n",
       "    </tr>\n",
       "  </tbody>\n",
       "</table>\n",
       "</div>"
      ],
      "text/plain": [
       "                                                            Description\n",
       "LoanStatNew                                                            \n",
       "loan_amnt             The listed amount of the loan applied for by t...\n",
       "term                  The number of payments on the loan. Values are...\n",
       "int_rate                                      Interest Rate on the loan\n",
       "installment           The monthly payment owed by the borrower if th...\n",
       "grade                                            LC assigned loan grade\n",
       "sub_grade                                     LC assigned loan subgrade\n",
       "emp_title             The job title supplied by the Borrower when ap...\n",
       "emp_length            Employment length in years. Possible values ar...\n",
       "home_ownership        The home ownership status provided by the borr...\n",
       "annual_inc            The self-reported annual income provided by th...\n",
       "verification_status   Indicates if income was verified by LC, not ve...\n",
       "issue_d                             The month which the loan was funded\n",
       "loan_status                                  Current status of the loan\n",
       "purpose               A category provided by the borrower for the lo...\n",
       "title                           The loan title provided by the borrower\n",
       "zip_code              The first 3 numbers of the zip code provided b...\n",
       "addr_state            The state provided by the borrower in the loan...\n",
       "dti                   A ratio calculated using the borrower’s total ...\n",
       "earliest_cr_line      The month the borrower's earliest reported cre...\n",
       "open_acc              The number of open credit lines in the borrowe...\n",
       "pub_rec                             Number of derogatory public records\n",
       "revol_bal                                Total credit revolving balance\n",
       "revol_util            Revolving line utilization rate, or the amount...\n",
       "total_acc             The total number of credit lines currently in ...\n",
       "initial_list_status   The initial listing status of the loan. Possib...\n",
       "application_type      Indicates whether the loan is an individual ap...\n",
       "mort_acc                                   Number of mortgage accounts.\n",
       "pub_rec_bankruptcies               Number of public record bankruptcies"
      ]
     },
     "execution_count": 3,
     "metadata": {},
     "output_type": "execute_result"
    }
   ],
   "source": [
    "data_info"
   ]
  },
  {
   "cell_type": "code",
   "execution_count": 4,
   "id": "9aadc474",
   "metadata": {},
   "outputs": [],
   "source": [
    "#Function to quickly grab feature info\n",
    "def feat_info(col_name):\n",
    "    print(data_info.loc[col_name,'Description'])"
   ]
  },
  {
   "cell_type": "code",
   "execution_count": 5,
   "id": "cfcc097a",
   "metadata": {},
   "outputs": [
    {
     "name": "stdout",
     "output_type": "stream",
     "text": [
      "The listed amount of the loan applied for by the borrower. If at some point in time, the credit department reduces the loan amount, then it will be reflected in this value.\n"
     ]
    }
   ],
   "source": [
    "feat_info('loan_amnt')"
   ]
  },
  {
   "cell_type": "code",
   "execution_count": 6,
   "id": "bf08dcba",
   "metadata": {},
   "outputs": [],
   "source": [
    "#importing the data\n",
    "df = pd.read_csv('../DATA/lending_club_loan_two.csv')"
   ]
  },
  {
   "cell_type": "code",
   "execution_count": 7,
   "id": "4c86d7ac",
   "metadata": {
    "scrolled": true
   },
   "outputs": [
    {
     "name": "stdout",
     "output_type": "stream",
     "text": [
      "<class 'pandas.core.frame.DataFrame'>\n",
      "RangeIndex: 396030 entries, 0 to 396029\n",
      "Data columns (total 27 columns):\n",
      " #   Column                Non-Null Count   Dtype  \n",
      "---  ------                --------------   -----  \n",
      " 0   loan_amnt             396030 non-null  float64\n",
      " 1   term                  396030 non-null  object \n",
      " 2   int_rate              396030 non-null  float64\n",
      " 3   installment           396030 non-null  float64\n",
      " 4   grade                 396030 non-null  object \n",
      " 5   sub_grade             396030 non-null  object \n",
      " 6   emp_title             373103 non-null  object \n",
      " 7   emp_length            377729 non-null  object \n",
      " 8   home_ownership        396030 non-null  object \n",
      " 9   annual_inc            396030 non-null  float64\n",
      " 10  verification_status   396030 non-null  object \n",
      " 11  issue_d               396030 non-null  object \n",
      " 12  loan_status           396030 non-null  object \n",
      " 13  purpose               396030 non-null  object \n",
      " 14  title                 394275 non-null  object \n",
      " 15  dti                   396030 non-null  float64\n",
      " 16  earliest_cr_line      396030 non-null  object \n",
      " 17  open_acc              396030 non-null  float64\n",
      " 18  pub_rec               396030 non-null  float64\n",
      " 19  revol_bal             396030 non-null  float64\n",
      " 20  revol_util            395754 non-null  float64\n",
      " 21  total_acc             396030 non-null  float64\n",
      " 22  initial_list_status   396030 non-null  object \n",
      " 23  application_type      396030 non-null  object \n",
      " 24  mort_acc              358235 non-null  float64\n",
      " 25  pub_rec_bankruptcies  395495 non-null  float64\n",
      " 26  address               396030 non-null  object \n",
      "dtypes: float64(12), object(15)\n",
      "memory usage: 81.6+ MB\n"
     ]
    }
   ],
   "source": [
    "df.info()"
   ]
  },
  {
   "cell_type": "code",
   "execution_count": 8,
   "id": "ac2f8421",
   "metadata": {
    "scrolled": false
   },
   "outputs": [
    {
     "data": {
      "text/html": [
       "<div>\n",
       "<style scoped>\n",
       "    .dataframe tbody tr th:only-of-type {\n",
       "        vertical-align: middle;\n",
       "    }\n",
       "\n",
       "    .dataframe tbody tr th {\n",
       "        vertical-align: top;\n",
       "    }\n",
       "\n",
       "    .dataframe thead th {\n",
       "        text-align: right;\n",
       "    }\n",
       "</style>\n",
       "<table border=\"1\" class=\"dataframe\">\n",
       "  <thead>\n",
       "    <tr style=\"text-align: right;\">\n",
       "      <th></th>\n",
       "      <th>count</th>\n",
       "      <th>mean</th>\n",
       "      <th>std</th>\n",
       "      <th>min</th>\n",
       "      <th>25%</th>\n",
       "      <th>50%</th>\n",
       "      <th>75%</th>\n",
       "      <th>max</th>\n",
       "    </tr>\n",
       "  </thead>\n",
       "  <tbody>\n",
       "    <tr>\n",
       "      <th>loan_amnt</th>\n",
       "      <td>396030.0</td>\n",
       "      <td>14113.888089</td>\n",
       "      <td>8357.441341</td>\n",
       "      <td>500.00</td>\n",
       "      <td>8000.00</td>\n",
       "      <td>12000.00</td>\n",
       "      <td>20000.00</td>\n",
       "      <td>40000.00</td>\n",
       "    </tr>\n",
       "    <tr>\n",
       "      <th>int_rate</th>\n",
       "      <td>396030.0</td>\n",
       "      <td>13.639400</td>\n",
       "      <td>4.472157</td>\n",
       "      <td>5.32</td>\n",
       "      <td>10.49</td>\n",
       "      <td>13.33</td>\n",
       "      <td>16.49</td>\n",
       "      <td>30.99</td>\n",
       "    </tr>\n",
       "    <tr>\n",
       "      <th>installment</th>\n",
       "      <td>396030.0</td>\n",
       "      <td>431.849698</td>\n",
       "      <td>250.727790</td>\n",
       "      <td>16.08</td>\n",
       "      <td>250.33</td>\n",
       "      <td>375.43</td>\n",
       "      <td>567.30</td>\n",
       "      <td>1533.81</td>\n",
       "    </tr>\n",
       "    <tr>\n",
       "      <th>annual_inc</th>\n",
       "      <td>396030.0</td>\n",
       "      <td>74203.175798</td>\n",
       "      <td>61637.621158</td>\n",
       "      <td>0.00</td>\n",
       "      <td>45000.00</td>\n",
       "      <td>64000.00</td>\n",
       "      <td>90000.00</td>\n",
       "      <td>8706582.00</td>\n",
       "    </tr>\n",
       "    <tr>\n",
       "      <th>dti</th>\n",
       "      <td>396030.0</td>\n",
       "      <td>17.379514</td>\n",
       "      <td>18.019092</td>\n",
       "      <td>0.00</td>\n",
       "      <td>11.28</td>\n",
       "      <td>16.91</td>\n",
       "      <td>22.98</td>\n",
       "      <td>9999.00</td>\n",
       "    </tr>\n",
       "    <tr>\n",
       "      <th>open_acc</th>\n",
       "      <td>396030.0</td>\n",
       "      <td>11.311153</td>\n",
       "      <td>5.137649</td>\n",
       "      <td>0.00</td>\n",
       "      <td>8.00</td>\n",
       "      <td>10.00</td>\n",
       "      <td>14.00</td>\n",
       "      <td>90.00</td>\n",
       "    </tr>\n",
       "    <tr>\n",
       "      <th>pub_rec</th>\n",
       "      <td>396030.0</td>\n",
       "      <td>0.178191</td>\n",
       "      <td>0.530671</td>\n",
       "      <td>0.00</td>\n",
       "      <td>0.00</td>\n",
       "      <td>0.00</td>\n",
       "      <td>0.00</td>\n",
       "      <td>86.00</td>\n",
       "    </tr>\n",
       "    <tr>\n",
       "      <th>revol_bal</th>\n",
       "      <td>396030.0</td>\n",
       "      <td>15844.539853</td>\n",
       "      <td>20591.836109</td>\n",
       "      <td>0.00</td>\n",
       "      <td>6025.00</td>\n",
       "      <td>11181.00</td>\n",
       "      <td>19620.00</td>\n",
       "      <td>1743266.00</td>\n",
       "    </tr>\n",
       "    <tr>\n",
       "      <th>revol_util</th>\n",
       "      <td>395754.0</td>\n",
       "      <td>53.791749</td>\n",
       "      <td>24.452193</td>\n",
       "      <td>0.00</td>\n",
       "      <td>35.80</td>\n",
       "      <td>54.80</td>\n",
       "      <td>72.90</td>\n",
       "      <td>892.30</td>\n",
       "    </tr>\n",
       "    <tr>\n",
       "      <th>total_acc</th>\n",
       "      <td>396030.0</td>\n",
       "      <td>25.414744</td>\n",
       "      <td>11.886991</td>\n",
       "      <td>2.00</td>\n",
       "      <td>17.00</td>\n",
       "      <td>24.00</td>\n",
       "      <td>32.00</td>\n",
       "      <td>151.00</td>\n",
       "    </tr>\n",
       "    <tr>\n",
       "      <th>mort_acc</th>\n",
       "      <td>358235.0</td>\n",
       "      <td>1.813991</td>\n",
       "      <td>2.147930</td>\n",
       "      <td>0.00</td>\n",
       "      <td>0.00</td>\n",
       "      <td>1.00</td>\n",
       "      <td>3.00</td>\n",
       "      <td>34.00</td>\n",
       "    </tr>\n",
       "    <tr>\n",
       "      <th>pub_rec_bankruptcies</th>\n",
       "      <td>395495.0</td>\n",
       "      <td>0.121648</td>\n",
       "      <td>0.356174</td>\n",
       "      <td>0.00</td>\n",
       "      <td>0.00</td>\n",
       "      <td>0.00</td>\n",
       "      <td>0.00</td>\n",
       "      <td>8.00</td>\n",
       "    </tr>\n",
       "  </tbody>\n",
       "</table>\n",
       "</div>"
      ],
      "text/plain": [
       "                         count          mean           std     min       25%  \\\n",
       "loan_amnt             396030.0  14113.888089   8357.441341  500.00   8000.00   \n",
       "int_rate              396030.0     13.639400      4.472157    5.32     10.49   \n",
       "installment           396030.0    431.849698    250.727790   16.08    250.33   \n",
       "annual_inc            396030.0  74203.175798  61637.621158    0.00  45000.00   \n",
       "dti                   396030.0     17.379514     18.019092    0.00     11.28   \n",
       "open_acc              396030.0     11.311153      5.137649    0.00      8.00   \n",
       "pub_rec               396030.0      0.178191      0.530671    0.00      0.00   \n",
       "revol_bal             396030.0  15844.539853  20591.836109    0.00   6025.00   \n",
       "revol_util            395754.0     53.791749     24.452193    0.00     35.80   \n",
       "total_acc             396030.0     25.414744     11.886991    2.00     17.00   \n",
       "mort_acc              358235.0      1.813991      2.147930    0.00      0.00   \n",
       "pub_rec_bankruptcies  395495.0      0.121648      0.356174    0.00      0.00   \n",
       "\n",
       "                           50%       75%         max  \n",
       "loan_amnt             12000.00  20000.00    40000.00  \n",
       "int_rate                 13.33     16.49       30.99  \n",
       "installment             375.43    567.30     1533.81  \n",
       "annual_inc            64000.00  90000.00  8706582.00  \n",
       "dti                      16.91     22.98     9999.00  \n",
       "open_acc                 10.00     14.00       90.00  \n",
       "pub_rec                   0.00      0.00       86.00  \n",
       "revol_bal             11181.00  19620.00  1743266.00  \n",
       "revol_util               54.80     72.90      892.30  \n",
       "total_acc                24.00     32.00      151.00  \n",
       "mort_acc                  1.00      3.00       34.00  \n",
       "pub_rec_bankruptcies      0.00      0.00        8.00  "
      ]
     },
     "execution_count": 8,
     "metadata": {},
     "output_type": "execute_result"
    }
   ],
   "source": [
    "df.describe().transpose()"
   ]
  },
  {
   "cell_type": "code",
   "execution_count": 9,
   "id": "c8e11139",
   "metadata": {},
   "outputs": [
    {
     "data": {
      "text/html": [
       "<div>\n",
       "<style scoped>\n",
       "    .dataframe tbody tr th:only-of-type {\n",
       "        vertical-align: middle;\n",
       "    }\n",
       "\n",
       "    .dataframe tbody tr th {\n",
       "        vertical-align: top;\n",
       "    }\n",
       "\n",
       "    .dataframe thead th {\n",
       "        text-align: right;\n",
       "    }\n",
       "</style>\n",
       "<table border=\"1\" class=\"dataframe\">\n",
       "  <thead>\n",
       "    <tr style=\"text-align: right;\">\n",
       "      <th></th>\n",
       "      <th>loan_amnt</th>\n",
       "      <th>term</th>\n",
       "      <th>int_rate</th>\n",
       "      <th>installment</th>\n",
       "      <th>grade</th>\n",
       "      <th>sub_grade</th>\n",
       "      <th>emp_title</th>\n",
       "      <th>emp_length</th>\n",
       "      <th>home_ownership</th>\n",
       "      <th>annual_inc</th>\n",
       "      <th>...</th>\n",
       "      <th>open_acc</th>\n",
       "      <th>pub_rec</th>\n",
       "      <th>revol_bal</th>\n",
       "      <th>revol_util</th>\n",
       "      <th>total_acc</th>\n",
       "      <th>initial_list_status</th>\n",
       "      <th>application_type</th>\n",
       "      <th>mort_acc</th>\n",
       "      <th>pub_rec_bankruptcies</th>\n",
       "      <th>address</th>\n",
       "    </tr>\n",
       "  </thead>\n",
       "  <tbody>\n",
       "    <tr>\n",
       "      <th>0</th>\n",
       "      <td>10000.0</td>\n",
       "      <td>36 months</td>\n",
       "      <td>11.44</td>\n",
       "      <td>329.48</td>\n",
       "      <td>B</td>\n",
       "      <td>B4</td>\n",
       "      <td>Marketing</td>\n",
       "      <td>10+ years</td>\n",
       "      <td>RENT</td>\n",
       "      <td>117000.0</td>\n",
       "      <td>...</td>\n",
       "      <td>16.0</td>\n",
       "      <td>0.0</td>\n",
       "      <td>36369.0</td>\n",
       "      <td>41.8</td>\n",
       "      <td>25.0</td>\n",
       "      <td>w</td>\n",
       "      <td>INDIVIDUAL</td>\n",
       "      <td>0.0</td>\n",
       "      <td>0.0</td>\n",
       "      <td>0174 Michelle Gateway\\nMendozaberg, OK 22690</td>\n",
       "    </tr>\n",
       "    <tr>\n",
       "      <th>1</th>\n",
       "      <td>8000.0</td>\n",
       "      <td>36 months</td>\n",
       "      <td>11.99</td>\n",
       "      <td>265.68</td>\n",
       "      <td>B</td>\n",
       "      <td>B5</td>\n",
       "      <td>Credit analyst</td>\n",
       "      <td>4 years</td>\n",
       "      <td>MORTGAGE</td>\n",
       "      <td>65000.0</td>\n",
       "      <td>...</td>\n",
       "      <td>17.0</td>\n",
       "      <td>0.0</td>\n",
       "      <td>20131.0</td>\n",
       "      <td>53.3</td>\n",
       "      <td>27.0</td>\n",
       "      <td>f</td>\n",
       "      <td>INDIVIDUAL</td>\n",
       "      <td>3.0</td>\n",
       "      <td>0.0</td>\n",
       "      <td>1076 Carney Fort Apt. 347\\nLoganmouth, SD 05113</td>\n",
       "    </tr>\n",
       "    <tr>\n",
       "      <th>2</th>\n",
       "      <td>15600.0</td>\n",
       "      <td>36 months</td>\n",
       "      <td>10.49</td>\n",
       "      <td>506.97</td>\n",
       "      <td>B</td>\n",
       "      <td>B3</td>\n",
       "      <td>Statistician</td>\n",
       "      <td>&lt; 1 year</td>\n",
       "      <td>RENT</td>\n",
       "      <td>43057.0</td>\n",
       "      <td>...</td>\n",
       "      <td>13.0</td>\n",
       "      <td>0.0</td>\n",
       "      <td>11987.0</td>\n",
       "      <td>92.2</td>\n",
       "      <td>26.0</td>\n",
       "      <td>f</td>\n",
       "      <td>INDIVIDUAL</td>\n",
       "      <td>0.0</td>\n",
       "      <td>0.0</td>\n",
       "      <td>87025 Mark Dale Apt. 269\\nNew Sabrina, WV 05113</td>\n",
       "    </tr>\n",
       "    <tr>\n",
       "      <th>3</th>\n",
       "      <td>7200.0</td>\n",
       "      <td>36 months</td>\n",
       "      <td>6.49</td>\n",
       "      <td>220.65</td>\n",
       "      <td>A</td>\n",
       "      <td>A2</td>\n",
       "      <td>Client Advocate</td>\n",
       "      <td>6 years</td>\n",
       "      <td>RENT</td>\n",
       "      <td>54000.0</td>\n",
       "      <td>...</td>\n",
       "      <td>6.0</td>\n",
       "      <td>0.0</td>\n",
       "      <td>5472.0</td>\n",
       "      <td>21.5</td>\n",
       "      <td>13.0</td>\n",
       "      <td>f</td>\n",
       "      <td>INDIVIDUAL</td>\n",
       "      <td>0.0</td>\n",
       "      <td>0.0</td>\n",
       "      <td>823 Reid Ford\\nDelacruzside, MA 00813</td>\n",
       "    </tr>\n",
       "    <tr>\n",
       "      <th>4</th>\n",
       "      <td>24375.0</td>\n",
       "      <td>60 months</td>\n",
       "      <td>17.27</td>\n",
       "      <td>609.33</td>\n",
       "      <td>C</td>\n",
       "      <td>C5</td>\n",
       "      <td>Destiny Management Inc.</td>\n",
       "      <td>9 years</td>\n",
       "      <td>MORTGAGE</td>\n",
       "      <td>55000.0</td>\n",
       "      <td>...</td>\n",
       "      <td>13.0</td>\n",
       "      <td>0.0</td>\n",
       "      <td>24584.0</td>\n",
       "      <td>69.8</td>\n",
       "      <td>43.0</td>\n",
       "      <td>f</td>\n",
       "      <td>INDIVIDUAL</td>\n",
       "      <td>1.0</td>\n",
       "      <td>0.0</td>\n",
       "      <td>679 Luna Roads\\nGreggshire, VA 11650</td>\n",
       "    </tr>\n",
       "  </tbody>\n",
       "</table>\n",
       "<p>5 rows × 27 columns</p>\n",
       "</div>"
      ],
      "text/plain": [
       "   loan_amnt        term  int_rate  installment grade sub_grade  \\\n",
       "0    10000.0   36 months     11.44       329.48     B        B4   \n",
       "1     8000.0   36 months     11.99       265.68     B        B5   \n",
       "2    15600.0   36 months     10.49       506.97     B        B3   \n",
       "3     7200.0   36 months      6.49       220.65     A        A2   \n",
       "4    24375.0   60 months     17.27       609.33     C        C5   \n",
       "\n",
       "                 emp_title emp_length home_ownership  annual_inc  ...  \\\n",
       "0                Marketing  10+ years           RENT    117000.0  ...   \n",
       "1          Credit analyst     4 years       MORTGAGE     65000.0  ...   \n",
       "2             Statistician   < 1 year           RENT     43057.0  ...   \n",
       "3          Client Advocate    6 years           RENT     54000.0  ...   \n",
       "4  Destiny Management Inc.    9 years       MORTGAGE     55000.0  ...   \n",
       "\n",
       "  open_acc pub_rec revol_bal revol_util total_acc  initial_list_status  \\\n",
       "0     16.0     0.0   36369.0       41.8      25.0                    w   \n",
       "1     17.0     0.0   20131.0       53.3      27.0                    f   \n",
       "2     13.0     0.0   11987.0       92.2      26.0                    f   \n",
       "3      6.0     0.0    5472.0       21.5      13.0                    f   \n",
       "4     13.0     0.0   24584.0       69.8      43.0                    f   \n",
       "\n",
       "  application_type  mort_acc  pub_rec_bankruptcies  \\\n",
       "0       INDIVIDUAL       0.0                   0.0   \n",
       "1       INDIVIDUAL       3.0                   0.0   \n",
       "2       INDIVIDUAL       0.0                   0.0   \n",
       "3       INDIVIDUAL       0.0                   0.0   \n",
       "4       INDIVIDUAL       1.0                   0.0   \n",
       "\n",
       "                                           address  \n",
       "0     0174 Michelle Gateway\\nMendozaberg, OK 22690  \n",
       "1  1076 Carney Fort Apt. 347\\nLoganmouth, SD 05113  \n",
       "2  87025 Mark Dale Apt. 269\\nNew Sabrina, WV 05113  \n",
       "3            823 Reid Ford\\nDelacruzside, MA 00813  \n",
       "4             679 Luna Roads\\nGreggshire, VA 11650  \n",
       "\n",
       "[5 rows x 27 columns]"
      ]
     },
     "execution_count": 9,
     "metadata": {},
     "output_type": "execute_result"
    }
   ],
   "source": [
    "df.head()"
   ]
  },
  {
   "cell_type": "markdown",
   "id": "d03b8f1b",
   "metadata": {},
   "source": [
    "### 1. Exploratory Data Analysis\n",
    "\n",
    "**Goal:** Get a better understanding of the variable in the data set through summarizing, statistics, and visualizations.\n",
    "\n",
    "The classification label for this data, which is what we will be trying to predict, will be the 'loan_status' colum. Lets visulaize this column."
   ]
  },
  {
   "cell_type": "code",
   "execution_count": 10,
   "id": "40618e6c",
   "metadata": {},
   "outputs": [
    {
     "data": {
      "text/plain": [
       "<AxesSubplot:xlabel='loan_status', ylabel='count'>"
      ]
     },
     "execution_count": 10,
     "metadata": {},
     "output_type": "execute_result"
    },
    {
     "data": {
      "image/png": "[encoded data removed]",
      "text/plain": [
       "<Figure size 500x400 with 1 Axes>"
      ]
     },
     "metadata": {},
     "output_type": "display_data"
    }
   ],
   "source": [
    "plt.rcParams['figure.figsize'] = (5,4)\n",
    "sns.countplot(data=df,x='loan_status')"
   ]
  },
  {
   "cell_type": "markdown",
   "id": "adab716b",
   "metadata": {},
   "source": [
    "I am also curious about the distribution of loan amounts."
   ]
  },
  {
   "cell_type": "code",
   "execution_count": 11,
   "id": "9804ea1f",
   "metadata": {},
   "outputs": [
    {
     "data": {
      "text/plain": [
       "<AxesSubplot:xlabel='loan_amnt', ylabel='Count'>"
      ]
     },
     "execution_count": 11,
     "metadata": {},
     "output_type": "execute_result"
    },
    {
     "data": {
      "image/png": "[encoded data removed]",
      "text/plain": [
       "<Figure size 800x300 with 1 Axes>"
      ]
     },
     "metadata": {},
     "output_type": "display_data"
    }
   ],
   "source": [
    "plt.figure(figsize=(8,3))\n",
    "sns.histplot(df['loan_amnt'],bins=40,color='lightblue')"
   ]
  },
  {
   "cell_type": "markdown",
   "id": "65c40864",
   "metadata": {},
   "source": [
    "I'd like to explore the correlation between the feature variables."
   ]
  },
  {
   "cell_type": "code",
   "execution_count": 12,
   "id": "75cfe012",
   "metadata": {},
   "outputs": [
    {
     "data": {
      "text/html": [
       "<div>\n",
       "<style scoped>\n",
       "    .dataframe tbody tr th:only-of-type {\n",
       "        vertical-align: middle;\n",
       "    }\n",
       "\n",
       "    .dataframe tbody tr th {\n",
       "        vertical-align: top;\n",
       "    }\n",
       "\n",
       "    .dataframe thead th {\n",
       "        text-align: right;\n",
       "    }\n",
       "</style>\n",
       "<table border=\"1\" class=\"dataframe\">\n",
       "  <thead>\n",
       "    <tr style=\"text-align: right;\">\n",
       "      <th></th>\n",
       "      <th>loan_amnt</th>\n",
       "      <th>int_rate</th>\n",
       "      <th>installment</th>\n",
       "      <th>annual_inc</th>\n",
       "      <th>dti</th>\n",
       "      <th>open_acc</th>\n",
       "      <th>pub_rec</th>\n",
       "      <th>revol_bal</th>\n",
       "      <th>revol_util</th>\n",
       "      <th>total_acc</th>\n",
       "      <th>mort_acc</th>\n",
       "      <th>pub_rec_bankruptcies</th>\n",
       "    </tr>\n",
       "  </thead>\n",
       "  <tbody>\n",
       "    <tr>\n",
       "      <th>loan_amnt</th>\n",
       "      <td>1.000000</td>\n",
       "      <td>0.168921</td>\n",
       "      <td>0.953929</td>\n",
       "      <td>0.336887</td>\n",
       "      <td>0.016636</td>\n",
       "      <td>0.198556</td>\n",
       "      <td>-0.077779</td>\n",
       "      <td>0.328320</td>\n",
       "      <td>0.099911</td>\n",
       "      <td>0.223886</td>\n",
       "      <td>0.222315</td>\n",
       "      <td>-0.106539</td>\n",
       "    </tr>\n",
       "    <tr>\n",
       "      <th>int_rate</th>\n",
       "      <td>0.168921</td>\n",
       "      <td>1.000000</td>\n",
       "      <td>0.162758</td>\n",
       "      <td>-0.056771</td>\n",
       "      <td>0.079038</td>\n",
       "      <td>0.011649</td>\n",
       "      <td>0.060986</td>\n",
       "      <td>-0.011280</td>\n",
       "      <td>0.293659</td>\n",
       "      <td>-0.036404</td>\n",
       "      <td>-0.082583</td>\n",
       "      <td>0.057450</td>\n",
       "    </tr>\n",
       "    <tr>\n",
       "      <th>installment</th>\n",
       "      <td>0.953929</td>\n",
       "      <td>0.162758</td>\n",
       "      <td>1.000000</td>\n",
       "      <td>0.330381</td>\n",
       "      <td>0.015786</td>\n",
       "      <td>0.188973</td>\n",
       "      <td>-0.067892</td>\n",
       "      <td>0.316455</td>\n",
       "      <td>0.123915</td>\n",
       "      <td>0.202430</td>\n",
       "      <td>0.193694</td>\n",
       "      <td>-0.098628</td>\n",
       "    </tr>\n",
       "    <tr>\n",
       "      <th>annual_inc</th>\n",
       "      <td>0.336887</td>\n",
       "      <td>-0.056771</td>\n",
       "      <td>0.330381</td>\n",
       "      <td>1.000000</td>\n",
       "      <td>-0.081685</td>\n",
       "      <td>0.136150</td>\n",
       "      <td>-0.013720</td>\n",
       "      <td>0.299773</td>\n",
       "      <td>0.027871</td>\n",
       "      <td>0.193023</td>\n",
       "      <td>0.236320</td>\n",
       "      <td>-0.050162</td>\n",
       "    </tr>\n",
       "    <tr>\n",
       "      <th>dti</th>\n",
       "      <td>0.016636</td>\n",
       "      <td>0.079038</td>\n",
       "      <td>0.015786</td>\n",
       "      <td>-0.081685</td>\n",
       "      <td>1.000000</td>\n",
       "      <td>0.136181</td>\n",
       "      <td>-0.017639</td>\n",
       "      <td>0.063571</td>\n",
       "      <td>0.088375</td>\n",
       "      <td>0.102128</td>\n",
       "      <td>-0.025439</td>\n",
       "      <td>-0.014558</td>\n",
       "    </tr>\n",
       "    <tr>\n",
       "      <th>open_acc</th>\n",
       "      <td>0.198556</td>\n",
       "      <td>0.011649</td>\n",
       "      <td>0.188973</td>\n",
       "      <td>0.136150</td>\n",
       "      <td>0.136181</td>\n",
       "      <td>1.000000</td>\n",
       "      <td>-0.018392</td>\n",
       "      <td>0.221192</td>\n",
       "      <td>-0.131420</td>\n",
       "      <td>0.680728</td>\n",
       "      <td>0.109205</td>\n",
       "      <td>-0.027732</td>\n",
       "    </tr>\n",
       "    <tr>\n",
       "      <th>pub_rec</th>\n",
       "      <td>-0.077779</td>\n",
       "      <td>0.060986</td>\n",
       "      <td>-0.067892</td>\n",
       "      <td>-0.013720</td>\n",
       "      <td>-0.017639</td>\n",
       "      <td>-0.018392</td>\n",
       "      <td>1.000000</td>\n",
       "      <td>-0.101664</td>\n",
       "      <td>-0.075910</td>\n",
       "      <td>0.019723</td>\n",
       "      <td>0.011552</td>\n",
       "      <td>0.699408</td>\n",
       "    </tr>\n",
       "    <tr>\n",
       "      <th>revol_bal</th>\n",
       "      <td>0.328320</td>\n",
       "      <td>-0.011280</td>\n",
       "      <td>0.316455</td>\n",
       "      <td>0.299773</td>\n",
       "      <td>0.063571</td>\n",
       "      <td>0.221192</td>\n",
       "      <td>-0.101664</td>\n",
       "      <td>1.000000</td>\n",
       "      <td>0.226346</td>\n",
       "      <td>0.191616</td>\n",
       "      <td>0.194925</td>\n",
       "      <td>-0.124532</td>\n",
       "    </tr>\n",
       "    <tr>\n",
       "      <th>revol_util</th>\n",
       "      <td>0.099911</td>\n",
       "      <td>0.293659</td>\n",
       "      <td>0.123915</td>\n",
       "      <td>0.027871</td>\n",
       "      <td>0.088375</td>\n",
       "      <td>-0.131420</td>\n",
       "      <td>-0.075910</td>\n",
       "      <td>0.226346</td>\n",
       "      <td>1.000000</td>\n",
       "      <td>-0.104273</td>\n",
       "      <td>0.007514</td>\n",
       "      <td>-0.086751</td>\n",
       "    </tr>\n",
       "    <tr>\n",
       "      <th>total_acc</th>\n",
       "      <td>0.223886</td>\n",
       "      <td>-0.036404</td>\n",
       "      <td>0.202430</td>\n",
       "      <td>0.193023</td>\n",
       "      <td>0.102128</td>\n",
       "      <td>0.680728</td>\n",
       "      <td>0.019723</td>\n",
       "      <td>0.191616</td>\n",
       "      <td>-0.104273</td>\n",
       "      <td>1.000000</td>\n",
       "      <td>0.381072</td>\n",
       "      <td>0.042035</td>\n",
       "    </tr>\n",
       "    <tr>\n",
       "      <th>mort_acc</th>\n",
       "      <td>0.222315</td>\n",
       "      <td>-0.082583</td>\n",
       "      <td>0.193694</td>\n",
       "      <td>0.236320</td>\n",
       "      <td>-0.025439</td>\n",
       "      <td>0.109205</td>\n",
       "      <td>0.011552</td>\n",
       "      <td>0.194925</td>\n",
       "      <td>0.007514</td>\n",
       "      <td>0.381072</td>\n",
       "      <td>1.000000</td>\n",
       "      <td>0.027239</td>\n",
       "    </tr>\n",
       "    <tr>\n",
       "      <th>pub_rec_bankruptcies</th>\n",
       "      <td>-0.106539</td>\n",
       "      <td>0.057450</td>\n",
       "      <td>-0.098628</td>\n",
       "      <td>-0.050162</td>\n",
       "      <td>-0.014558</td>\n",
       "      <td>-0.027732</td>\n",
       "      <td>0.699408</td>\n",
       "      <td>-0.124532</td>\n",
       "      <td>-0.086751</td>\n",
       "      <td>0.042035</td>\n",
       "      <td>0.027239</td>\n",
       "      <td>1.000000</td>\n",
       "    </tr>\n",
       "  </tbody>\n",
       "</table>\n",
       "</div>"
      ],
      "text/plain": [
       "                      loan_amnt  int_rate  installment  annual_inc       dti  \\\n",
       "loan_amnt              1.000000  0.168921     0.953929    0.336887  0.016636   \n",
       "int_rate               0.168921  1.000000     0.162758   -0.056771  0.079038   \n",
       "installment            0.953929  0.162758     1.000000    0.330381  0.015786   \n",
       "annual_inc             0.336887 -0.056771     0.330381    1.000000 -0.081685   \n",
       "dti                    0.016636  0.079038     0.015786   -0.081685  1.000000   \n",
       "open_acc               0.198556  0.011649     0.188973    0.136150  0.136181   \n",
       "pub_rec               -0.077779  0.060986    -0.067892   -0.013720 -0.017639   \n",
       "revol_bal              0.328320 -0.011280     0.316455    0.299773  0.063571   \n",
       "revol_util             0.099911  0.293659     0.123915    0.027871  0.088375   \n",
       "total_acc              0.223886 -0.036404     0.202430    0.193023  0.102128   \n",
       "mort_acc               0.222315 -0.082583     0.193694    0.236320 -0.025439   \n",
       "pub_rec_bankruptcies  -0.106539  0.057450    -0.098628   -0.050162 -0.014558   \n",
       "\n",
       "                      open_acc   pub_rec  revol_bal  revol_util  total_acc  \\\n",
       "loan_amnt             0.198556 -0.077779   0.328320    0.099911   0.223886   \n",
       "int_rate              0.011649  0.060986  -0.011280    0.293659  -0.036404   \n",
       "installment           0.188973 -0.067892   0.316455    0.123915   0.202430   \n",
       "annual_inc            0.136150 -0.013720   0.299773    0.027871   0.193023   \n",
       "dti                   0.136181 -0.017639   0.063571    0.088375   0.102128   \n",
       "open_acc              1.000000 -0.018392   0.221192   -0.131420   0.680728   \n",
       "pub_rec              -0.018392  1.000000  -0.101664   -0.075910   0.019723   \n",
       "revol_bal             0.221192 -0.101664   1.000000    0.226346   0.191616   \n",
       "revol_util           -0.131420 -0.075910   0.226346    1.000000  -0.104273   \n",
       "total_acc             0.680728  0.019723   0.191616   -0.104273   1.000000   \n",
       "mort_acc              0.109205  0.011552   0.194925    0.007514   0.381072   \n",
       "pub_rec_bankruptcies -0.027732  0.699408  -0.124532   -0.086751   0.042035   \n",
       "\n",
       "                      mort_acc  pub_rec_bankruptcies  \n",
       "loan_amnt             0.222315             -0.106539  \n",
       "int_rate             -0.082583              0.057450  \n",
       "installment           0.193694             -0.098628  \n",
       "annual_inc            0.236320             -0.050162  \n",
       "dti                  -0.025439             -0.014558  \n",
       "open_acc              0.109205             -0.027732  \n",
       "pub_rec               0.011552              0.699408  \n",
       "revol_bal             0.194925             -0.124532  \n",
       "revol_util            0.007514             -0.086751  \n",
       "total_acc             0.381072              0.042035  \n",
       "mort_acc              1.000000              0.027239  \n",
       "pub_rec_bankruptcies  0.027239              1.000000  "
      ]
     },
     "execution_count": 12,
     "metadata": {},
     "output_type": "execute_result"
    }
   ],
   "source": [
    "df.corr()"
   ]
  },
  {
   "cell_type": "code",
   "execution_count": 13,
   "id": "dea8e8d7",
   "metadata": {},
   "outputs": [
    {
     "data": {
      "image/png": "[encoded data removed]",
      "text/plain": [
       "<Figure size 1000x600 with 2 Axes>"
      ]
     },
     "metadata": {},
     "output_type": "display_data"
    }
   ],
   "source": [
    "plt.figure(figsize=(10,6))\n",
    "sns.heatmap(df.corr(),annot=True,cmap='viridis')\n",
    "plt.xticks(rotation=45, ha='right')\n",
    "plt.show()"
   ]
  },
  {
   "cell_type": "markdown",
   "id": "53074062",
   "metadata": {},
   "source": [
    "There is a near perfect correlation between the 'loan_amnt' and 'installment' features. Let's explore this relationship a bit more to see if there is duplicate information."
   ]
  },
  {
   "cell_type": "code",
   "execution_count": 14,
   "id": "7ffc455d",
   "metadata": {},
   "outputs": [
    {
     "name": "stdout",
     "output_type": "stream",
     "text": [
      "The listed amount of the loan applied for by the borrower. If at some point in time, the credit department reduces the loan amount, then it will be reflected in this value.\n"
     ]
    }
   ],
   "source": [
    "feat_info('loan_amnt')"
   ]
  },
  {
   "cell_type": "code",
   "execution_count": 15,
   "id": "48e91f3b",
   "metadata": {},
   "outputs": [
    {
     "name": "stdout",
     "output_type": "stream",
     "text": [
      "The monthly payment owed by the borrower if the loan originates.\n"
     ]
    }
   ],
   "source": [
    "feat_info('installment')"
   ]
  },
  {
   "cell_type": "code",
   "execution_count": 16,
   "id": "249ff5ff",
   "metadata": {
    "scrolled": false
   },
   "outputs": [
    {
     "data": {
      "text/plain": [
       "<AxesSubplot:xlabel='installment', ylabel='loan_amnt'>"
      ]
     },
     "execution_count": 16,
     "metadata": {},
     "output_type": "execute_result"
    },
    {
     "data": {
      "image/png": "[encoded data removed]",
      "text/plain": [
       "<Figure size 500x400 with 1 Axes>"
      ]
     },
     "metadata": {},
     "output_type": "display_data"
    }
   ],
   "source": [
    "sns.scatterplot(data=df,x='installment',y='loan_amnt')"
   ]
  },
  {
   "cell_type": "markdown",
   "id": "b57a7fde",
   "metadata": {},
   "source": [
    "It makes sense why these two features are so highly correlated: The installment amount feature almost certainly uses the loan amount to be calculated. Due to this I may want to drop one of these feature for this reason later on, but I will keep it in the back of my mind for now.\n",
    "\n",
    "Lets keep exploring other columns to get a better idea of the data."
   ]
  },
  {
   "cell_type": "markdown",
   "id": "1c6cea9f",
   "metadata": {},
   "source": [
    "I would like to see if there is a significant correlation between the loan amount and whether the borrower defaults. It does not look like the correlation is strong."
   ]
  },
  {
   "cell_type": "code",
   "execution_count": 17,
   "id": "97a299ed",
   "metadata": {
    "scrolled": false
   },
   "outputs": [
    {
     "data": {
      "text/plain": [
       "<AxesSubplot:xlabel='loan_status', ylabel='loan_amnt'>"
      ]
     },
     "execution_count": 17,
     "metadata": {},
     "output_type": "execute_result"
    },
    {
     "data": {
      "image/png": "[encoded data removed]",
      "text/plain": [
       "<Figure size 500x400 with 1 Axes>"
      ]
     },
     "metadata": {},
     "output_type": "display_data"
    }
   ],
   "source": [
    "sns.boxplot(data=df ,x='loan_status', y='loan_amnt')"
   ]
  },
  {
   "cell_type": "code",
   "execution_count": 18,
   "id": "fd9669ff",
   "metadata": {},
   "outputs": [
    {
     "data": {
      "text/html": [
       "<div>\n",
       "<style scoped>\n",
       "    .dataframe tbody tr th:only-of-type {\n",
       "        vertical-align: middle;\n",
       "    }\n",
       "\n",
       "    .dataframe tbody tr th {\n",
       "        vertical-align: top;\n",
       "    }\n",
       "\n",
       "    .dataframe thead th {\n",
       "        text-align: right;\n",
       "    }\n",
       "</style>\n",
       "<table border=\"1\" class=\"dataframe\">\n",
       "  <thead>\n",
       "    <tr style=\"text-align: right;\">\n",
       "      <th></th>\n",
       "      <th>count</th>\n",
       "      <th>mean</th>\n",
       "      <th>std</th>\n",
       "      <th>min</th>\n",
       "      <th>25%</th>\n",
       "      <th>50%</th>\n",
       "      <th>75%</th>\n",
       "      <th>max</th>\n",
       "    </tr>\n",
       "    <tr>\n",
       "      <th>loan_status</th>\n",
       "      <th></th>\n",
       "      <th></th>\n",
       "      <th></th>\n",
       "      <th></th>\n",
       "      <th></th>\n",
       "      <th></th>\n",
       "      <th></th>\n",
       "      <th></th>\n",
       "    </tr>\n",
       "  </thead>\n",
       "  <tbody>\n",
       "    <tr>\n",
       "      <th>Charged Off</th>\n",
       "      <td>77673.0</td>\n",
       "      <td>15126.300967</td>\n",
       "      <td>8505.090557</td>\n",
       "      <td>1000.0</td>\n",
       "      <td>8525.0</td>\n",
       "      <td>14000.0</td>\n",
       "      <td>20000.0</td>\n",
       "      <td>40000.0</td>\n",
       "    </tr>\n",
       "    <tr>\n",
       "      <th>Fully Paid</th>\n",
       "      <td>318357.0</td>\n",
       "      <td>13866.878771</td>\n",
       "      <td>8302.319699</td>\n",
       "      <td>500.0</td>\n",
       "      <td>7500.0</td>\n",
       "      <td>12000.0</td>\n",
       "      <td>19225.0</td>\n",
       "      <td>40000.0</td>\n",
       "    </tr>\n",
       "  </tbody>\n",
       "</table>\n",
       "</div>"
      ],
      "text/plain": [
       "                count          mean          std     min     25%      50%  \\\n",
       "loan_status                                                                 \n",
       "Charged Off   77673.0  15126.300967  8505.090557  1000.0  8525.0  14000.0   \n",
       "Fully Paid   318357.0  13866.878771  8302.319699   500.0  7500.0  12000.0   \n",
       "\n",
       "                 75%      max  \n",
       "loan_status                    \n",
       "Charged Off  20000.0  40000.0  \n",
       "Fully Paid   19225.0  40000.0  "
      ]
     },
     "execution_count": 18,
     "metadata": {},
     "output_type": "execute_result"
    }
   ],
   "source": [
    "df.groupby('loan_status')['loan_amnt'].describe()"
   ]
  },
  {
   "cell_type": "markdown",
   "id": "56401888",
   "metadata": {},
   "source": [
    "Next, I'd like to explore the Grade and SubGrade columns that LendingClub attributes to the loans. I will be looking to see what these gradings are and how they are distributed amongst paid vs. defaulted loans."
   ]
  },
  {
   "cell_type": "code",
   "execution_count": 19,
   "id": "ed9688e9",
   "metadata": {},
   "outputs": [
    {
     "data": {
      "text/plain": [
       "['A', 'B', 'C', 'D', 'E', 'F', 'G']"
      ]
     },
     "execution_count": 19,
     "metadata": {},
     "output_type": "execute_result"
    }
   ],
   "source": [
    "sorted(df['grade'].unique())"
   ]
  },
  {
   "cell_type": "code",
   "execution_count": 20,
   "id": "684d28c8",
   "metadata": {},
   "outputs": [
    {
     "data": {
      "text/plain": [
       "['A1',\n",
       " 'A2',\n",
       " 'A3',\n",
       " 'A4',\n",
       " 'A5',\n",
       " 'B1',\n",
       " 'B2',\n",
       " 'B3',\n",
       " 'B4',\n",
       " 'B5',\n",
       " 'C1',\n",
       " 'C2',\n",
       " 'C3',\n",
       " 'C4',\n",
       " 'C5',\n",
       " 'D1',\n",
       " 'D2',\n",
       " 'D3',\n",
       " 'D4',\n",
       " 'D5',\n",
       " 'E1',\n",
       " 'E2',\n",
       " 'E3',\n",
       " 'E4',\n",
       " 'E5',\n",
       " 'F1',\n",
       " 'F2',\n",
       " 'F3',\n",
       " 'F4',\n",
       " 'F5',\n",
       " 'G1',\n",
       " 'G2',\n",
       " 'G3',\n",
       " 'G4',\n",
       " 'G5']"
      ]
     },
     "execution_count": 20,
     "metadata": {},
     "output_type": "execute_result"
    }
   ],
   "source": [
    "sorted(df['sub_grade'].unique())"
   ]
  },
  {
   "cell_type": "code",
   "execution_count": 21,
   "id": "f0886214",
   "metadata": {},
   "outputs": [
    {
     "data": {
      "text/plain": [
       "<AxesSubplot:xlabel='grade', ylabel='count'>"
      ]
     },
     "execution_count": 21,
     "metadata": {},
     "output_type": "execute_result"
    },
    {
     "data": {
      "image/png": "[encoded data removed]",
      "text/plain": [
       "<Figure size 500x400 with 1 Axes>"
      ]
     },
     "metadata": {},
     "output_type": "display_data"
    }
   ],
   "source": [
    "sns.countplot(data=df, x='grade', hue='loan_status')"
   ]
  },
  {
   "cell_type": "code",
   "execution_count": 22,
   "id": "e823444a",
   "metadata": {},
   "outputs": [
    {
     "data": {
      "text/plain": [
       "<AxesSubplot:xlabel='sub_grade', ylabel='count'>"
      ]
     },
     "execution_count": 22,
     "metadata": {},
     "output_type": "execute_result"
    },
    {
     "data": {
      "image/png": "[encoded data removed]",
      "text/plain": [
       "<Figure size 1200x400 with 1 Axes>"
      ]
     },
     "metadata": {},
     "output_type": "display_data"
    }
   ],
   "source": [
    "plt.figure(figsize=(12,4))\n",
    "subgrade_order = sorted(df['sub_grade'].unique())\n",
    "sns.countplot(data=df, x='sub_grade', order=subgrade_order, palette='coolwarm')"
   ]
  },
  {
   "cell_type": "code",
   "execution_count": 23,
   "id": "5e74fa7d",
   "metadata": {},
   "outputs": [
    {
     "data": {
      "text/plain": [
       "<AxesSubplot:xlabel='sub_grade', ylabel='count'>"
      ]
     },
     "execution_count": 23,
     "metadata": {},
     "output_type": "execute_result"
    },
    {
     "data": {
      "image/png": "[encoded data removed]",
      "text/plain": [
       "<Figure size 1200x400 with 1 Axes>"
      ]
     },
     "metadata": {},
     "output_type": "display_data"
    }
   ],
   "source": [
    "plt.figure(figsize=(12,4))\n",
    "sns.countplot(data=df, x='sub_grade', order=subgrade_order, hue='loan_status',palette='coolwarm')"
   ]
  },
  {
   "cell_type": "markdown",
   "id": "562005fd",
   "metadata": {},
   "source": [
    "A large portion of the F and G subgrades don't get paid back often, but I'd like to isolate them in a seperate countplot for a better look."
   ]
  },
  {
   "cell_type": "code",
   "execution_count": 24,
   "id": "13637b2f",
   "metadata": {},
   "outputs": [
    {
     "data": {
      "text/plain": [
       "<AxesSubplot:xlabel='sub_grade', ylabel='count'>"
      ]
     },
     "execution_count": 24,
     "metadata": {},
     "output_type": "execute_result"
    },
    {
     "data": {
      "image/png": "[encoded data removed]",
      "text/plain": [
       "<Figure size 1200x400 with 1 Axes>"
      ]
     },
     "metadata": {},
     "output_type": "display_data"
    }
   ],
   "source": [
    "f_and_g = df[(df['grade']=='F') | (df['grade']=='G')]\n",
    "\n",
    "plt.figure(figsize=(12,4))\n",
    "subgrade_order = sorted(f_and_g['sub_grade'].unique())\n",
    "sns.countplot(x='sub_grade',data=f_and_g,order = subgrade_order, hue='loan_status', palette='coolwarm')"
   ]
  },
  {
   "cell_type": "markdown",
   "id": "287e23c4",
   "metadata": {},
   "source": [
    "That is enough data visualization for now. Before continuing to the data preprocessing, I have to create a new column which will represent the loan status column using 0 and 1 values."
   ]
  },
  {
   "cell_type": "code",
   "execution_count": 25,
   "id": "b5fbd357",
   "metadata": {},
   "outputs": [
    {
     "data": {
      "text/plain": [
       "array(['Fully Paid', 'Charged Off'], dtype=object)"
      ]
     },
     "execution_count": 25,
     "metadata": {},
     "output_type": "execute_result"
    }
   ],
   "source": [
    "df['loan_status'].unique()"
   ]
  },
  {
   "cell_type": "code",
   "execution_count": 26,
   "id": "4e9e7661",
   "metadata": {},
   "outputs": [],
   "source": [
    "df['loan_repaid'] = df['loan_status'].map({'Fully Paid':1,'Charged Off':0})"
   ]
  },
  {
   "cell_type": "code",
   "execution_count": 27,
   "id": "2a14c82b",
   "metadata": {},
   "outputs": [
    {
     "data": {
      "text/html": [
       "<div>\n",
       "<style scoped>\n",
       "    .dataframe tbody tr th:only-of-type {\n",
       "        vertical-align: middle;\n",
       "    }\n",
       "\n",
       "    .dataframe tbody tr th {\n",
       "        vertical-align: top;\n",
       "    }\n",
       "\n",
       "    .dataframe thead th {\n",
       "        text-align: right;\n",
       "    }\n",
       "</style>\n",
       "<table border=\"1\" class=\"dataframe\">\n",
       "  <thead>\n",
       "    <tr style=\"text-align: right;\">\n",
       "      <th></th>\n",
       "      <th>loan_repaid</th>\n",
       "      <th>loan_status</th>\n",
       "    </tr>\n",
       "  </thead>\n",
       "  <tbody>\n",
       "    <tr>\n",
       "      <th>0</th>\n",
       "      <td>1</td>\n",
       "      <td>Fully Paid</td>\n",
       "    </tr>\n",
       "    <tr>\n",
       "      <th>1</th>\n",
       "      <td>1</td>\n",
       "      <td>Fully Paid</td>\n",
       "    </tr>\n",
       "    <tr>\n",
       "      <th>2</th>\n",
       "      <td>1</td>\n",
       "      <td>Fully Paid</td>\n",
       "    </tr>\n",
       "    <tr>\n",
       "      <th>3</th>\n",
       "      <td>1</td>\n",
       "      <td>Fully Paid</td>\n",
       "    </tr>\n",
       "    <tr>\n",
       "      <th>4</th>\n",
       "      <td>0</td>\n",
       "      <td>Charged Off</td>\n",
       "    </tr>\n",
       "    <tr>\n",
       "      <th>...</th>\n",
       "      <td>...</td>\n",
       "      <td>...</td>\n",
       "    </tr>\n",
       "    <tr>\n",
       "      <th>396025</th>\n",
       "      <td>1</td>\n",
       "      <td>Fully Paid</td>\n",
       "    </tr>\n",
       "    <tr>\n",
       "      <th>396026</th>\n",
       "      <td>1</td>\n",
       "      <td>Fully Paid</td>\n",
       "    </tr>\n",
       "    <tr>\n",
       "      <th>396027</th>\n",
       "      <td>1</td>\n",
       "      <td>Fully Paid</td>\n",
       "    </tr>\n",
       "    <tr>\n",
       "      <th>396028</th>\n",
       "      <td>1</td>\n",
       "      <td>Fully Paid</td>\n",
       "    </tr>\n",
       "    <tr>\n",
       "      <th>396029</th>\n",
       "      <td>1</td>\n",
       "      <td>Fully Paid</td>\n",
       "    </tr>\n",
       "  </tbody>\n",
       "</table>\n",
       "<p>396030 rows × 2 columns</p>\n",
       "</div>"
      ],
      "text/plain": [
       "        loan_repaid  loan_status\n",
       "0                 1   Fully Paid\n",
       "1                 1   Fully Paid\n",
       "2                 1   Fully Paid\n",
       "3                 1   Fully Paid\n",
       "4                 0  Charged Off\n",
       "...             ...          ...\n",
       "396025            1   Fully Paid\n",
       "396026            1   Fully Paid\n",
       "396027            1   Fully Paid\n",
       "396028            1   Fully Paid\n",
       "396029            1   Fully Paid\n",
       "\n",
       "[396030 rows x 2 columns]"
      ]
     },
     "execution_count": 27,
     "metadata": {},
     "output_type": "execute_result"
    }
   ],
   "source": [
    "df[['loan_repaid','loan_status']]"
   ]
  },
  {
   "cell_type": "markdown",
   "id": "d6ba8c85",
   "metadata": {},
   "source": [
    "Now that I have this new column created, I'd like to quickly see the correlation between loan_repaid and other numeric features in the dataset."
   ]
  },
  {
   "cell_type": "code",
   "execution_count": 28,
   "id": "04ebfda4",
   "metadata": {},
   "outputs": [
    {
     "data": {
      "text/plain": [
       "<AxesSubplot:>"
      ]
     },
     "execution_count": 28,
     "metadata": {},
     "output_type": "execute_result"
    },
    {
     "data": {
      "image/png": "[encoded data removed]",
      "text/plain": [
       "<Figure size 500x400 with 1 Axes>"
      ]
     },
     "metadata": {},
     "output_type": "display_data"
    }
   ],
   "source": [
    "df.corr()['loan_repaid'].sort_values().drop('loan_repaid').plot(kind='bar')"
   ]
  },
  {
   "cell_type": "markdown",
   "id": "889ad552",
   "metadata": {},
   "source": [
    "### 2. Data Preprocessing\n",
    "\n",
    "**Goal:** Remove or fill in missing data points. Remove unnecessary or repetitive features. Convert categorical string features to dummy variables.\n",
    "\n",
    "I will start off by taking a look at the number, and percentage, of missing data points per each column."
   ]
  },
  {
   "cell_type": "code",
   "execution_count": 29,
   "id": "4afa13b8",
   "metadata": {},
   "outputs": [
    {
     "data": {
      "text/plain": [
       "loan_amnt                   0\n",
       "term                        0\n",
       "int_rate                    0\n",
       "installment                 0\n",
       "grade                       0\n",
       "sub_grade                   0\n",
       "emp_title               22927\n",
       "emp_length              18301\n",
       "home_ownership              0\n",
       "annual_inc                  0\n",
       "verification_status         0\n",
       "issue_d                     0\n",
       "loan_status                 0\n",
       "purpose                     0\n",
       "title                    1755\n",
       "dti                         0\n",
       "earliest_cr_line            0\n",
       "open_acc                    0\n",
       "pub_rec                     0\n",
       "revol_bal                   0\n",
       "revol_util                276\n",
       "total_acc                   0\n",
       "initial_list_status         0\n",
       "application_type            0\n",
       "mort_acc                37795\n",
       "pub_rec_bankruptcies      535\n",
       "address                     0\n",
       "loan_repaid                 0\n",
       "dtype: int64"
      ]
     },
     "execution_count": 29,
     "metadata": {},
     "output_type": "execute_result"
    }
   ],
   "source": [
    "df.isnull().sum()"
   ]
  },
  {
   "cell_type": "code",
   "execution_count": 30,
   "id": "92eea93d",
   "metadata": {},
   "outputs": [
    {
     "data": {
      "text/plain": [
       "loan_amnt               0.000000\n",
       "term                    0.000000\n",
       "int_rate                0.000000\n",
       "installment             0.000000\n",
       "grade                   0.000000\n",
       "sub_grade               0.000000\n",
       "emp_title               5.789208\n",
       "emp_length              4.621115\n",
       "home_ownership          0.000000\n",
       "annual_inc              0.000000\n",
       "verification_status     0.000000\n",
       "issue_d                 0.000000\n",
       "loan_status             0.000000\n",
       "purpose                 0.000000\n",
       "title                   0.443148\n",
       "dti                     0.000000\n",
       "earliest_cr_line        0.000000\n",
       "open_acc                0.000000\n",
       "pub_rec                 0.000000\n",
       "revol_bal               0.000000\n",
       "revol_util              0.069692\n",
       "total_acc               0.000000\n",
       "initial_list_status     0.000000\n",
       "application_type        0.000000\n",
       "mort_acc                9.543469\n",
       "pub_rec_bankruptcies    0.135091\n",
       "address                 0.000000\n",
       "loan_repaid             0.000000\n",
       "dtype: float64"
      ]
     },
     "execution_count": 30,
     "metadata": {},
     "output_type": "execute_result"
    }
   ],
   "source": [
    "100 * df.isnull().sum()/len(df)"
   ]
  },
  {
   "cell_type": "markdown",
   "id": "e91f7ab6",
   "metadata": {},
   "source": [
    "I'll start by looking at the 'emp_title' and 'emp_legth' columns."
   ]
  },
  {
   "cell_type": "code",
   "execution_count": 31,
   "id": "ecf1b295",
   "metadata": {},
   "outputs": [
    {
     "name": "stdout",
     "output_type": "stream",
     "text": [
      "The job title supplied by the Borrower when applying for the loan.*\n",
      "\n",
      "\n",
      "Employment length in years. Possible values are between 0 and 10 where 0 means less than one year and 10 means ten or more years. \n"
     ]
    }
   ],
   "source": [
    "feat_info('emp_title')\n",
    "print('\\n')\n",
    "feat_info('emp_length')"
   ]
  },
  {
   "cell_type": "code",
   "execution_count": 32,
   "id": "8d397131",
   "metadata": {},
   "outputs": [
    {
     "data": {
      "text/plain": [
       "173105"
      ]
     },
     "execution_count": 32,
     "metadata": {},
     "output_type": "execute_result"
    }
   ],
   "source": [
    "df['emp_title'].nunique()"
   ]
  },
  {
   "cell_type": "code",
   "execution_count": 33,
   "id": "2d160dca",
   "metadata": {},
   "outputs": [
    {
     "data": {
      "text/plain": [
       "Teacher                    4389\n",
       "Manager                    4250\n",
       "Registered Nurse           1856\n",
       "RN                         1846\n",
       "Supervisor                 1830\n",
       "                           ... \n",
       "Postman                       1\n",
       "McCarthy & Holthus, LLC       1\n",
       "jp flooring                   1\n",
       "Histology Technologist        1\n",
       "Gracon Services, Inc          1\n",
       "Name: emp_title, Length: 173105, dtype: int64"
      ]
     },
     "execution_count": 33,
     "metadata": {},
     "output_type": "execute_result"
    }
   ],
   "source": [
    "df['emp_title'].value_counts()"
   ]
  },
  {
   "cell_type": "markdown",
   "id": "802034ff",
   "metadata": {},
   "source": [
    "Realistically, there are too many unique job titles to concert this column into a dummy variable feature. I will remove this column from the dataset and take a look at 'emp_length' to see if it has a strong relationship to 'loan_status'."
   ]
  },
  {
   "cell_type": "code",
   "execution_count": 34,
   "id": "711a5587",
   "metadata": {},
   "outputs": [],
   "source": [
    "df = df.drop('emp_title', axis=1)"
   ]
  },
  {
   "cell_type": "code",
   "execution_count": 35,
   "id": "3fbfb670",
   "metadata": {},
   "outputs": [
    {
     "data": {
      "text/plain": [
       "['1 year',\n",
       " '10+ years',\n",
       " '2 years',\n",
       " '3 years',\n",
       " '4 years',\n",
       " '5 years',\n",
       " '6 years',\n",
       " '7 years',\n",
       " '8 years',\n",
       " '9 years',\n",
       " '< 1 year']"
      ]
     },
     "execution_count": 35,
     "metadata": {},
     "output_type": "execute_result"
    }
   ],
   "source": [
    "sorted(df['emp_length'].dropna().unique())"
   ]
  },
  {
   "cell_type": "code",
   "execution_count": 36,
   "id": "9863a269",
   "metadata": {},
   "outputs": [],
   "source": [
    "emp_length_order = [ '< 1 year',\n",
    "                      '1 year',\n",
    "                     '2 years',\n",
    "                     '3 years',\n",
    "                     '4 years',\n",
    "                     '5 years',\n",
    "                     '6 years',\n",
    "                     '7 years',\n",
    "                     '8 years',\n",
    "                     '9 years',\n",
    "                     '10+ years']"
   ]
  },
  {
   "cell_type": "code",
   "execution_count": 37,
   "id": "bca9fe48",
   "metadata": {},
   "outputs": [
    {
     "data": {
      "text/plain": [
       "<AxesSubplot:xlabel='emp_length', ylabel='count'>"
      ]
     },
     "execution_count": 37,
     "metadata": {},
     "output_type": "execute_result"
    },
    {
     "data": {
      "image/png": "[encoded data removed]",
      "text/plain": [
       "<Figure size 1200x400 with 1 Axes>"
      ]
     },
     "metadata": {},
     "output_type": "display_data"
    }
   ],
   "source": [
    "plt.figure(figsize=(12,4))\n",
    "sns.countplot(data=df, x='emp_length', order=emp_length_order, hue='loan_status')"
   ]
  },
  {
   "cell_type": "markdown",
   "id": "0d21d3c2",
   "metadata": {},
   "source": [
    "It is still difficult to see whether there is a strong relationship between employment length and loan status. Here it will be more useful to calculate the ratio between Fully Paid and Charged Off for each employment length group."
   ]
  },
  {
   "cell_type": "code",
   "execution_count": 38,
   "id": "9ea01e7f",
   "metadata": {},
   "outputs": [],
   "source": [
    "emp_fp = df[df['loan_status']=='Fully Paid'].groupby('emp_length').count()['loan_status']\n",
    "\n",
    "emp_co = df[df['loan_status']=='Charged Off'].groupby('emp_length').count()['loan_status']"
   ]
  },
  {
   "cell_type": "code",
   "execution_count": 39,
   "id": "2bbabe17",
   "metadata": {},
   "outputs": [
    {
     "data": {
      "text/plain": [
       "emp_length\n",
       "1 year       0.248649\n",
       "10+ years    0.225770\n",
       "2 years      0.239560\n",
       "3 years      0.242593\n",
       "4 years      0.238213\n",
       "5 years      0.237911\n",
       "6 years      0.233341\n",
       "7 years      0.241887\n",
       "8 years      0.249625\n",
       "9 years      0.250735\n",
       "< 1 year     0.260830\n",
       "Name: loan_status, dtype: float64"
      ]
     },
     "execution_count": 39,
     "metadata": {},
     "output_type": "execute_result"
    }
   ],
   "source": [
    "emp_ratio = emp_co/emp_fp\n",
    "emp_ratio"
   ]
  },
  {
   "cell_type": "code",
   "execution_count": 40,
   "id": "01f181d0",
   "metadata": {},
   "outputs": [
    {
     "data": {
      "text/plain": [
       "<AxesSubplot:xlabel='emp_length'>"
      ]
     },
     "execution_count": 40,
     "metadata": {},
     "output_type": "execute_result"
    },
    {
     "data": {
      "image/png": "[encoded data removed]",
      "text/plain": [
       "<Figure size 500x400 with 1 Axes>"
      ]
     },
     "metadata": {},
     "output_type": "display_data"
    }
   ],
   "source": [
    "emp_ratio.plot(kind='bar')"
   ]
  },
  {
   "cell_type": "markdown",
   "id": "316a9481",
   "metadata": {},
   "source": [
    "The default, or charged off, rate per employment length group is reletively similar amongst groups, so I will be removing it and check the remaining columns which still have missing data."
   ]
  },
  {
   "cell_type": "code",
   "execution_count": 41,
   "id": "944d1fd9",
   "metadata": {},
   "outputs": [],
   "source": [
    "df = df.drop('emp_length', axis=1)"
   ]
  },
  {
   "cell_type": "code",
   "execution_count": 42,
   "id": "6fb44f96",
   "metadata": {
    "scrolled": false
   },
   "outputs": [
    {
     "data": {
      "text/plain": [
       "loan_amnt                   0\n",
       "term                        0\n",
       "int_rate                    0\n",
       "installment                 0\n",
       "grade                       0\n",
       "sub_grade                   0\n",
       "home_ownership              0\n",
       "annual_inc                  0\n",
       "verification_status         0\n",
       "issue_d                     0\n",
       "loan_status                 0\n",
       "purpose                     0\n",
       "title                    1755\n",
       "dti                         0\n",
       "earliest_cr_line            0\n",
       "open_acc                    0\n",
       "pub_rec                     0\n",
       "revol_bal                   0\n",
       "revol_util                276\n",
       "total_acc                   0\n",
       "initial_list_status         0\n",
       "application_type            0\n",
       "mort_acc                37795\n",
       "pub_rec_bankruptcies      535\n",
       "address                     0\n",
       "loan_repaid                 0\n",
       "dtype: int64"
      ]
     },
     "execution_count": 42,
     "metadata": {},
     "output_type": "execute_result"
    }
   ],
   "source": [
    "df.isnull().sum()"
   ]
  },
  {
   "cell_type": "code",
   "execution_count": 43,
   "id": "0fc46623",
   "metadata": {},
   "outputs": [
    {
     "data": {
      "text/plain": [
       "0                   Vacation\n",
       "1         Debt consolidation\n",
       "2    Credit card refinancing\n",
       "3    Credit card refinancing\n",
       "4      Credit Card Refinance\n",
       "5         Debt consolidation\n",
       "6           Home improvement\n",
       "7       No More Credit Cards\n",
       "8         Debt consolidation\n",
       "9         Debt Consolidation\n",
       "Name: title, dtype: object"
      ]
     },
     "execution_count": 43,
     "metadata": {},
     "output_type": "execute_result"
    }
   ],
   "source": [
    "df['title'].head(10)"
   ]
  },
  {
   "cell_type": "code",
   "execution_count": 44,
   "id": "7ebdcf51",
   "metadata": {},
   "outputs": [
    {
     "data": {
      "text/plain": [
       "0              vacation\n",
       "1    debt_consolidation\n",
       "2           credit_card\n",
       "3           credit_card\n",
       "4           credit_card\n",
       "5    debt_consolidation\n",
       "6      home_improvement\n",
       "7           credit_card\n",
       "8    debt_consolidation\n",
       "9    debt_consolidation\n",
       "Name: purpose, dtype: object"
      ]
     },
     "execution_count": 44,
     "metadata": {},
     "output_type": "execute_result"
    }
   ],
   "source": [
    "df['purpose'].head(10)"
   ]
  },
  {
   "cell_type": "markdown",
   "id": "61a6e143",
   "metadata": {},
   "source": [
    "It looks like the 'title' column is just a repeat of the 'purpose' column, so I will be dropping this column and move on to look at the 'mort_acc' column.\n",
    "\n",
    "Since the 'revol_util' and 'pub_rec_bankruptcies' colunms are missing such a miniscule amount of datapoints, 0.07% and 0.13% respectively, I will be removing these rows from the datasets after I deal with the 'mort_acc' column."
   ]
  },
  {
   "cell_type": "code",
   "execution_count": 45,
   "id": "95b33cc9",
   "metadata": {},
   "outputs": [],
   "source": [
    "df = df.drop('title', axis=1)"
   ]
  },
  {
   "cell_type": "code",
   "execution_count": 46,
   "id": "2228996e",
   "metadata": {},
   "outputs": [
    {
     "name": "stdout",
     "output_type": "stream",
     "text": [
      "Number of mortgage accounts.\n"
     ]
    }
   ],
   "source": [
    "feat_info('mort_acc')"
   ]
  },
  {
   "cell_type": "code",
   "execution_count": 47,
   "id": "ed01eb37",
   "metadata": {},
   "outputs": [
    {
     "data": {
      "text/plain": [
       "0.0     139777\n",
       "1.0      60416\n",
       "2.0      49948\n",
       "3.0      38049\n",
       "4.0      27887\n",
       "5.0      18194\n",
       "6.0      11069\n",
       "7.0       6052\n",
       "8.0       3121\n",
       "9.0       1656\n",
       "10.0       865\n",
       "11.0       479\n",
       "12.0       264\n",
       "13.0       146\n",
       "14.0       107\n",
       "15.0        61\n",
       "16.0        37\n",
       "17.0        22\n",
       "18.0        18\n",
       "19.0        15\n",
       "20.0        13\n",
       "24.0        10\n",
       "22.0         7\n",
       "21.0         4\n",
       "25.0         4\n",
       "27.0         3\n",
       "32.0         2\n",
       "31.0         2\n",
       "23.0         2\n",
       "26.0         2\n",
       "28.0         1\n",
       "30.0         1\n",
       "34.0         1\n",
       "Name: mort_acc, dtype: int64"
      ]
     },
     "execution_count": 47,
     "metadata": {},
     "output_type": "execute_result"
    }
   ],
   "source": [
    "df['mort_acc'].value_counts()"
   ]
  },
  {
   "cell_type": "code",
   "execution_count": 48,
   "id": "60730ffd",
   "metadata": {},
   "outputs": [
    {
     "data": {
      "text/plain": [
       "int_rate               -0.082583\n",
       "dti                    -0.025439\n",
       "revol_util              0.007514\n",
       "pub_rec                 0.011552\n",
       "pub_rec_bankruptcies    0.027239\n",
       "loan_repaid             0.073111\n",
       "open_acc                0.109205\n",
       "installment             0.193694\n",
       "revol_bal               0.194925\n",
       "loan_amnt               0.222315\n",
       "annual_inc              0.236320\n",
       "total_acc               0.381072\n",
       "mort_acc                1.000000\n",
       "Name: mort_acc, dtype: float64"
      ]
     },
     "execution_count": 48,
     "metadata": {},
     "output_type": "execute_result"
    }
   ],
   "source": [
    "df.corr()['mort_acc'].sort_values()"
   ]
  },
  {
   "cell_type": "markdown",
   "id": "8df8a341",
   "metadata": {},
   "source": [
    "It looks like the 'total_acc' column is most highly correlated with 'mort_acc'. This makes sense as intuitively the more accounts you have, the higher chance you will have more mortgage account. \n",
    "\n",
    "To fill in the missing data points for 'mort_acc', I can group the dataframe by 'total_acc' and calculate the mean value for the mort_acc per total_acc group."
   ]
  },
  {
   "cell_type": "code",
   "execution_count": 49,
   "id": "da1248c3",
   "metadata": {},
   "outputs": [
    {
     "data": {
      "text/plain": [
       "total_acc\n",
       "2.0      0.000000\n",
       "3.0      0.052023\n",
       "4.0      0.066743\n",
       "5.0      0.103289\n",
       "6.0      0.151293\n",
       "           ...   \n",
       "124.0    1.000000\n",
       "129.0    1.000000\n",
       "135.0    3.000000\n",
       "150.0    2.000000\n",
       "151.0    0.000000\n",
       "Name: mort_acc, Length: 118, dtype: float64"
      ]
     },
     "execution_count": 49,
     "metadata": {},
     "output_type": "execute_result"
    }
   ],
   "source": [
    "total_acc_avg = df.groupby('total_acc').mean()['mort_acc']\n",
    "total_acc_avg"
   ]
  },
  {
   "cell_type": "code",
   "execution_count": 50,
   "id": "685ce175",
   "metadata": {},
   "outputs": [],
   "source": [
    "def fill_mort_acc(total_acc,mort_acc):\n",
    "    if np.isnan(mort_acc):\n",
    "        return total_acc_avg[total_acc]\n",
    "    else:\n",
    "        return mort_acc"
   ]
  },
  {
   "cell_type": "code",
   "execution_count": 51,
   "id": "6f56d6d9",
   "metadata": {},
   "outputs": [],
   "source": [
    "df['mort_acc'] = df.apply(lambda x: fill_mort_acc(x['total_acc'], x['mort_acc']), axis=1)"
   ]
  },
  {
   "cell_type": "code",
   "execution_count": 52,
   "id": "bc1f46db",
   "metadata": {},
   "outputs": [
    {
     "data": {
      "text/plain": [
       "loan_amnt                 0\n",
       "term                      0\n",
       "int_rate                  0\n",
       "installment               0\n",
       "grade                     0\n",
       "sub_grade                 0\n",
       "home_ownership            0\n",
       "annual_inc                0\n",
       "verification_status       0\n",
       "issue_d                   0\n",
       "loan_status               0\n",
       "purpose                   0\n",
       "dti                       0\n",
       "earliest_cr_line          0\n",
       "open_acc                  0\n",
       "pub_rec                   0\n",
       "revol_bal                 0\n",
       "revol_util              276\n",
       "total_acc                 0\n",
       "initial_list_status       0\n",
       "application_type          0\n",
       "mort_acc                  0\n",
       "pub_rec_bankruptcies    535\n",
       "address                   0\n",
       "loan_repaid               0\n",
       "dtype: int64"
      ]
     },
     "execution_count": 52,
     "metadata": {},
     "output_type": "execute_result"
    }
   ],
   "source": [
    "df.isnull().sum()"
   ]
  },
  {
   "cell_type": "markdown",
   "id": "c7d95a9a",
   "metadata": {},
   "source": [
    "I can now drop the remaining rows with missing values as they represent such a small small percentage of the total data. At this point the dataset will no longer have any missing values."
   ]
  },
  {
   "cell_type": "code",
   "execution_count": 53,
   "id": "20c275a5",
   "metadata": {},
   "outputs": [],
   "source": [
    "df = df.dropna()\n",
    "df = df.drop('loan_status', axis=1)"
   ]
  },
  {
   "cell_type": "code",
   "execution_count": 54,
   "id": "291920e4",
   "metadata": {},
   "outputs": [
    {
     "data": {
      "text/plain": [
       "loan_amnt               0\n",
       "term                    0\n",
       "int_rate                0\n",
       "installment             0\n",
       "grade                   0\n",
       "sub_grade               0\n",
       "home_ownership          0\n",
       "annual_inc              0\n",
       "verification_status     0\n",
       "issue_d                 0\n",
       "purpose                 0\n",
       "dti                     0\n",
       "earliest_cr_line        0\n",
       "open_acc                0\n",
       "pub_rec                 0\n",
       "revol_bal               0\n",
       "revol_util              0\n",
       "total_acc               0\n",
       "initial_list_status     0\n",
       "application_type        0\n",
       "mort_acc                0\n",
       "pub_rec_bankruptcies    0\n",
       "address                 0\n",
       "loan_repaid             0\n",
       "dtype: int64"
      ]
     },
     "execution_count": 54,
     "metadata": {},
     "output_type": "execute_result"
    }
   ],
   "source": [
    "df.isnull().sum()"
   ]
  },
  {
   "cell_type": "markdown",
   "id": "18d47524",
   "metadata": {},
   "source": [
    "### 2.1 Categorical Values to Dummy Variables\n",
    "\n",
    "Now that I am done dealing with the missing data, it is time to deal with the string values within the categorical columns."
   ]
  },
  {
   "cell_type": "code",
   "execution_count": 55,
   "id": "34964545",
   "metadata": {},
   "outputs": [
    {
     "data": {
      "text/plain": [
       "Index(['term', 'grade', 'sub_grade', 'home_ownership', 'verification_status',\n",
       "       'issue_d', 'purpose', 'earliest_cr_line', 'initial_list_status',\n",
       "       'application_type', 'address'],\n",
       "      dtype='object')"
      ]
     },
     "execution_count": 55,
     "metadata": {},
     "output_type": "execute_result"
    }
   ],
   "source": [
    "df.select_dtypes(['object']).columns"
   ]
  },
  {
   "cell_type": "markdown",
   "id": "63d23b03",
   "metadata": {},
   "source": [
    "#### term feature\n",
    "This colunm is relatively easy to deal with by converting it to a int."
   ]
  },
  {
   "cell_type": "code",
   "execution_count": 56,
   "id": "16e7777b",
   "metadata": {},
   "outputs": [
    {
     "data": {
      "text/plain": [
       " 36 months    301247\n",
       " 60 months     93972\n",
       "Name: term, dtype: int64"
      ]
     },
     "execution_count": 56,
     "metadata": {},
     "output_type": "execute_result"
    }
   ],
   "source": [
    "df['term'].value_counts()"
   ]
  },
  {
   "cell_type": "code",
   "execution_count": 57,
   "id": "701b9884",
   "metadata": {},
   "outputs": [],
   "source": [
    "df['term'] = df['term'].apply(lambda term: int(term[:3]))"
   ]
  },
  {
   "cell_type": "markdown",
   "id": "9dc44a70",
   "metadata": {},
   "source": [
    "#### grade & sub_grade features\n",
    "I already know that grade gives the same information at sub_grade, but with less detail. I can simply drop this column.\n",
    "\n",
    "Then I can convert the sub_grade feature into dummy variables and drop the original column."
   ]
  },
  {
   "cell_type": "code",
   "execution_count": 58,
   "id": "568b92fa",
   "metadata": {},
   "outputs": [],
   "source": [
    "df = df.drop('grade', axis=1)"
   ]
  },
  {
   "cell_type": "code",
   "execution_count": 59,
   "id": "d360e6b7",
   "metadata": {},
   "outputs": [],
   "source": [
    "dummies = pd.get_dummies(df['sub_grade'], drop_first=True)\n",
    "\n",
    "df = pd.concat([df.drop('sub_grade', axis=1), dummies], axis=1)"
   ]
  },
  {
   "cell_type": "code",
   "execution_count": 60,
   "id": "a5549691",
   "metadata": {},
   "outputs": [
    {
     "data": {
      "text/plain": [
       "Index(['loan_amnt', 'term', 'int_rate', 'installment', 'home_ownership',\n",
       "       'annual_inc', 'verification_status', 'issue_d', 'purpose', 'dti',\n",
       "       'earliest_cr_line', 'open_acc', 'pub_rec', 'revol_bal', 'revol_util',\n",
       "       'total_acc', 'initial_list_status', 'application_type', 'mort_acc',\n",
       "       'pub_rec_bankruptcies', 'address', 'loan_repaid', 'A2', 'A3', 'A4',\n",
       "       'A5', 'B1', 'B2', 'B3', 'B4', 'B5', 'C1', 'C2', 'C3', 'C4', 'C5', 'D1',\n",
       "       'D2', 'D3', 'D4', 'D5', 'E1', 'E2', 'E3', 'E4', 'E5', 'F1', 'F2', 'F3',\n",
       "       'F4', 'F5', 'G1', 'G2', 'G3', 'G4', 'G5'],\n",
       "      dtype='object')"
      ]
     },
     "execution_count": 60,
     "metadata": {},
     "output_type": "execute_result"
    }
   ],
   "source": [
    "df.columns"
   ]
  },
  {
   "cell_type": "markdown",
   "id": "b902e63b",
   "metadata": {},
   "source": [
    "#### verification_status, application_type, initial_list_status & purpose features\n",
    "These features do not have too many unique values and can be therefore transformed into dummy variables."
   ]
  },
  {
   "cell_type": "code",
   "execution_count": 61,
   "id": "c77952b5",
   "metadata": {},
   "outputs": [
    {
     "data": {
      "text/html": [
       "<div>\n",
       "<style scoped>\n",
       "    .dataframe tbody tr th:only-of-type {\n",
       "        vertical-align: middle;\n",
       "    }\n",
       "\n",
       "    .dataframe tbody tr th {\n",
       "        vertical-align: top;\n",
       "    }\n",
       "\n",
       "    .dataframe thead th {\n",
       "        text-align: right;\n",
       "    }\n",
       "</style>\n",
       "<table border=\"1\" class=\"dataframe\">\n",
       "  <thead>\n",
       "    <tr style=\"text-align: right;\">\n",
       "      <th></th>\n",
       "      <th>verification_status</th>\n",
       "      <th>application_type</th>\n",
       "      <th>initial_list_status</th>\n",
       "      <th>purpose</th>\n",
       "    </tr>\n",
       "  </thead>\n",
       "  <tbody>\n",
       "    <tr>\n",
       "      <th>0</th>\n",
       "      <td>Not Verified</td>\n",
       "      <td>INDIVIDUAL</td>\n",
       "      <td>w</td>\n",
       "      <td>vacation</td>\n",
       "    </tr>\n",
       "    <tr>\n",
       "      <th>1</th>\n",
       "      <td>Not Verified</td>\n",
       "      <td>INDIVIDUAL</td>\n",
       "      <td>f</td>\n",
       "      <td>debt_consolidation</td>\n",
       "    </tr>\n",
       "    <tr>\n",
       "      <th>2</th>\n",
       "      <td>Source Verified</td>\n",
       "      <td>INDIVIDUAL</td>\n",
       "      <td>f</td>\n",
       "      <td>credit_card</td>\n",
       "    </tr>\n",
       "    <tr>\n",
       "      <th>3</th>\n",
       "      <td>Not Verified</td>\n",
       "      <td>INDIVIDUAL</td>\n",
       "      <td>f</td>\n",
       "      <td>credit_card</td>\n",
       "    </tr>\n",
       "    <tr>\n",
       "      <th>4</th>\n",
       "      <td>Verified</td>\n",
       "      <td>INDIVIDUAL</td>\n",
       "      <td>f</td>\n",
       "      <td>credit_card</td>\n",
       "    </tr>\n",
       "    <tr>\n",
       "      <th>...</th>\n",
       "      <td>...</td>\n",
       "      <td>...</td>\n",
       "      <td>...</td>\n",
       "      <td>...</td>\n",
       "    </tr>\n",
       "    <tr>\n",
       "      <th>396025</th>\n",
       "      <td>Source Verified</td>\n",
       "      <td>INDIVIDUAL</td>\n",
       "      <td>w</td>\n",
       "      <td>debt_consolidation</td>\n",
       "    </tr>\n",
       "    <tr>\n",
       "      <th>396026</th>\n",
       "      <td>Source Verified</td>\n",
       "      <td>INDIVIDUAL</td>\n",
       "      <td>f</td>\n",
       "      <td>debt_consolidation</td>\n",
       "    </tr>\n",
       "    <tr>\n",
       "      <th>396027</th>\n",
       "      <td>Verified</td>\n",
       "      <td>INDIVIDUAL</td>\n",
       "      <td>f</td>\n",
       "      <td>debt_consolidation</td>\n",
       "    </tr>\n",
       "    <tr>\n",
       "      <th>396028</th>\n",
       "      <td>Verified</td>\n",
       "      <td>INDIVIDUAL</td>\n",
       "      <td>f</td>\n",
       "      <td>debt_consolidation</td>\n",
       "    </tr>\n",
       "    <tr>\n",
       "      <th>396029</th>\n",
       "      <td>Verified</td>\n",
       "      <td>INDIVIDUAL</td>\n",
       "      <td>f</td>\n",
       "      <td>debt_consolidation</td>\n",
       "    </tr>\n",
       "  </tbody>\n",
       "</table>\n",
       "<p>395219 rows × 4 columns</p>\n",
       "</div>"
      ],
      "text/plain": [
       "       verification_status application_type initial_list_status  \\\n",
       "0             Not Verified       INDIVIDUAL                   w   \n",
       "1             Not Verified       INDIVIDUAL                   f   \n",
       "2          Source Verified       INDIVIDUAL                   f   \n",
       "3             Not Verified       INDIVIDUAL                   f   \n",
       "4                 Verified       INDIVIDUAL                   f   \n",
       "...                    ...              ...                 ...   \n",
       "396025     Source Verified       INDIVIDUAL                   w   \n",
       "396026     Source Verified       INDIVIDUAL                   f   \n",
       "396027            Verified       INDIVIDUAL                   f   \n",
       "396028            Verified       INDIVIDUAL                   f   \n",
       "396029            Verified       INDIVIDUAL                   f   \n",
       "\n",
       "                   purpose  \n",
       "0                 vacation  \n",
       "1       debt_consolidation  \n",
       "2              credit_card  \n",
       "3              credit_card  \n",
       "4              credit_card  \n",
       "...                    ...  \n",
       "396025  debt_consolidation  \n",
       "396026  debt_consolidation  \n",
       "396027  debt_consolidation  \n",
       "396028  debt_consolidation  \n",
       "396029  debt_consolidation  \n",
       "\n",
       "[395219 rows x 4 columns]"
      ]
     },
     "execution_count": 61,
     "metadata": {},
     "output_type": "execute_result"
    }
   ],
   "source": [
    "df[['verification_status','application_type','initial_list_status','purpose']]"
   ]
  },
  {
   "cell_type": "code",
   "execution_count": 62,
   "id": "a0b7fe00",
   "metadata": {},
   "outputs": [
    {
     "data": {
      "text/plain": [
       "verification_status     3\n",
       "application_type        3\n",
       "initial_list_status     2\n",
       "purpose                14\n",
       "dtype: int64"
      ]
     },
     "execution_count": 62,
     "metadata": {},
     "output_type": "execute_result"
    }
   ],
   "source": [
    "df[['verification_status','application_type','initial_list_status','purpose']].nunique()"
   ]
  },
  {
   "cell_type": "code",
   "execution_count": 63,
   "id": "20bd2a28",
   "metadata": {},
   "outputs": [],
   "source": [
    "dummies = pd.get_dummies(df[['verification_status','application_type','initial_list_status','purpose']], drop_first=True)\n",
    "df = df.drop(['verification_status','application_type','initial_list_status','purpose'], axis=1)\n",
    "df = pd.concat([df,dummies], axis=1)"
   ]
  },
  {
   "cell_type": "markdown",
   "id": "9d72f4c6",
   "metadata": {},
   "source": [
    "#### home_ownership feature\n",
    "To simplify this feature a bit further, I will combine 'NONE' and 'ANY' into the 'OTHER' category."
   ]
  },
  {
   "cell_type": "code",
   "execution_count": 64,
   "id": "8a9f95d4",
   "metadata": {},
   "outputs": [
    {
     "data": {
      "text/plain": [
       "MORTGAGE    198022\n",
       "RENT        159395\n",
       "OWN          37660\n",
       "OTHER          110\n",
       "NONE            29\n",
       "ANY              3\n",
       "Name: home_ownership, dtype: int64"
      ]
     },
     "execution_count": 64,
     "metadata": {},
     "output_type": "execute_result"
    }
   ],
   "source": [
    "df['home_ownership'].value_counts()"
   ]
  },
  {
   "cell_type": "code",
   "execution_count": 65,
   "id": "4fbc8b03",
   "metadata": {},
   "outputs": [],
   "source": [
    "df['home_ownership'] = df['home_ownership'].replace(['NONE', 'ANY'], 'OTHER')\n",
    "\n",
    "dummies = pd.get_dummies(df['home_ownership'],drop_first=True)\n",
    "df = pd.concat([df.drop('home_ownership',axis=1), dummies], axis=1)"
   ]
  },
  {
   "cell_type": "markdown",
   "id": "98985316",
   "metadata": {},
   "source": [
    "#### address feature\n",
    "The address column contains too much unique information to neatly deal with. I can instead feature engineer a new 'zip_code' column by extracting only the zip code from each address "
   ]
  },
  {
   "cell_type": "code",
   "execution_count": 66,
   "id": "5a66ff1c",
   "metadata": {},
   "outputs": [
    {
     "name": "stdout",
     "output_type": "stream",
     "text": [
      "['0174 Michelle Gateway\\nMendozaberg, OK 22690'\n",
      " '1076 Carney Fort Apt. 347\\nLoganmouth, SD 05113'\n",
      " '87025 Mark Dale Apt. 269\\nNew Sabrina, WV 05113' ...\n",
      " '953 Matthew Points Suite 414\\nReedfort, NY 70466'\n",
      " '7843 Blake Freeway Apt. 229\\nNew Michael, FL 29597'\n",
      " '787 Michelle Causeway\\nBriannaton, AR 48052']\n",
      "\n",
      "\n",
      "392898\n"
     ]
    }
   ],
   "source": [
    "print(df['address'].unique())\n",
    "print('\\n')\n",
    "print(df['address'].nunique())"
   ]
  },
  {
   "cell_type": "code",
   "execution_count": 67,
   "id": "9e2219d7",
   "metadata": {},
   "outputs": [],
   "source": [
    "df['zip_code'] = df['address'].apply(lambda address:address[-5:])"
   ]
  },
  {
   "cell_type": "code",
   "execution_count": 68,
   "id": "1c438218",
   "metadata": {},
   "outputs": [],
   "source": [
    "dummies = pd.get_dummies(df['zip_code'],drop_first=True)\n",
    "df = pd.concat([df.drop(['zip_code','address'],axis=1), dummies], axis=1)"
   ]
  },
  {
   "cell_type": "markdown",
   "id": "232a2a78",
   "metadata": {},
   "source": [
    "#### issue_d feature\n",
    "Including this feature would be data leakage. I wouldn't know beforehand whether or not a loan would be issued using my model, so in theory I wouldn't have an issue_date. I will therefore drop this feature."
   ]
  },
  {
   "cell_type": "code",
   "execution_count": 69,
   "id": "adc0ce2c",
   "metadata": {},
   "outputs": [],
   "source": [
    "df = df.drop('issue_d', axis=1)"
   ]
  },
  {
   "cell_type": "markdown",
   "id": "5dc562b7",
   "metadata": {},
   "source": [
    "#### earliest_cr_line feature\n",
    "This is simply a historical time stamp feature. I can extract the year and then convert it to a numerical feature in order to avoid creating more dummy variables."
   ]
  },
  {
   "cell_type": "code",
   "execution_count": 70,
   "id": "6adeae18",
   "metadata": {},
   "outputs": [
    {
     "name": "stdout",
     "output_type": "stream",
     "text": [
      "The month the borrower's earliest reported credit line was opened\n"
     ]
    }
   ],
   "source": [
    "feat_info('earliest_cr_line')"
   ]
  },
  {
   "cell_type": "code",
   "execution_count": 71,
   "id": "e6be9c95",
   "metadata": {},
   "outputs": [
    {
     "data": {
      "text/plain": [
       "0    Jun-1990\n",
       "1    Jul-2004\n",
       "2    Aug-2007\n",
       "3    Sep-2006\n",
       "4    Mar-1999\n",
       "Name: earliest_cr_line, dtype: object"
      ]
     },
     "execution_count": 71,
     "metadata": {},
     "output_type": "execute_result"
    }
   ],
   "source": [
    "df['earliest_cr_line'].head()"
   ]
  },
  {
   "cell_type": "code",
   "execution_count": 72,
   "id": "899b9e63",
   "metadata": {},
   "outputs": [
    {
     "data": {
      "text/plain": [
       "684"
      ]
     },
     "execution_count": 72,
     "metadata": {},
     "output_type": "execute_result"
    }
   ],
   "source": [
    "df['earliest_cr_line'].nunique()"
   ]
  },
  {
   "cell_type": "code",
   "execution_count": 73,
   "id": "a0365c8a",
   "metadata": {},
   "outputs": [],
   "source": [
    "df['earliest_cr_year'] = df['earliest_cr_line'].apply(lambda date:int(date[-4:]))\n",
    "df = df.drop('earliest_cr_line',axis=1)"
   ]
  },
  {
   "cell_type": "markdown",
   "id": "baa467bd",
   "metadata": {},
   "source": [
    "### 3. The Model\n",
    "#### Sampling the Data\n",
    "In the interest of saving time on training, as I have a low RAM computer, I will be using a sample of the dataset for training."
   ]
  },
  {
   "cell_type": "code",
   "execution_count": 74,
   "id": "90c1ddd2",
   "metadata": {},
   "outputs": [],
   "source": [
    "df_smp = df.sample(frac=0.2,random_state=42)"
   ]
  },
  {
   "cell_type": "markdown",
   "id": "09ab9631",
   "metadata": {},
   "source": [
    "#### Train Test Split"
   ]
  },
  {
   "cell_type": "code",
   "execution_count": 75,
   "id": "e34c0974",
   "metadata": {},
   "outputs": [],
   "source": [
    "from sklearn.model_selection import train_test_split"
   ]
  },
  {
   "cell_type": "code",
   "execution_count": 76,
   "id": "db22d151",
   "metadata": {},
   "outputs": [],
   "source": [
    "X = df_smp.drop('loan_repaid', axis=1).values\n",
    "y = df_smp['loan_repaid'].values"
   ]
  },
  {
   "cell_type": "code",
   "execution_count": 77,
   "id": "a72064af",
   "metadata": {
    "scrolled": false
   },
   "outputs": [],
   "source": [
    "X_train, X_test, y_train, y_test = train_test_split(\n",
    "    X, y, test_size=0.2, random_state=42, stratify=y)"
   ]
  },
  {
   "cell_type": "code",
   "execution_count": 78,
   "id": "704049d0",
   "metadata": {},
   "outputs": [
    {
     "name": "stdout",
     "output_type": "stream",
     "text": [
      "(63235, 78) (15809, 78)\n"
     ]
    }
   ],
   "source": [
    "print(X_train.shape, X_test.shape)"
   ]
  },
  {
   "cell_type": "markdown",
   "id": "ef718ca8",
   "metadata": {},
   "source": [
    "#### Normalizing the data\n",
    "I used the MinMaxScaler to normalize the feature data of X_train and X_test. Since I don't want data leakge from the test set, I will only fit on the X_train data."
   ]
  },
  {
   "cell_type": "code",
   "execution_count": 79,
   "id": "715e5cd5",
   "metadata": {},
   "outputs": [],
   "source": [
    "from sklearn.preprocessing import MinMaxScaler"
   ]
  },
  {
   "cell_type": "code",
   "execution_count": 80,
   "id": "85a3fb79",
   "metadata": {},
   "outputs": [],
   "source": [
    "scaler = MinMaxScaler()"
   ]
  },
  {
   "cell_type": "code",
   "execution_count": 81,
   "id": "55edf21f",
   "metadata": {},
   "outputs": [],
   "source": [
    "X_train = scaler.fit_transform(X_train)\n",
    "X_test = scaler.transform(X_test)"
   ]
  },
  {
   "cell_type": "markdown",
   "id": "ec1dd7dd",
   "metadata": {},
   "source": [
    "#### Creating the Model\n",
    "###### Choosing the number of layers and amount of neurons for each layer:\n",
    "Every Neural Network has a input layer and in majority of cases the number of neurons comprimising that layer is equal to the number of features in the data. In this case, it is 78. \n",
    "\n",
    "From research I have done, hidden layers follow two rules in majority of problems: (1) the humber of hidden layers equals one; and (2) the number of neurons in that layer is the mean of the neurons in the input and output layers. I have tested adding additional hidden layers with neurons equal to the mean of neurons from the previous and next layers, to only get marginally better classification report scores. Following the theory of Occam's Razor (that goes something like - \"The simplest solution if likely the correct one\"), I have kept the model with a single hidden layer. \n",
    "\n",
    "For the output layer, since the NN is a classifier and does *not* use a softmax function, it will only contain one neuron.\n",
    "\n",
    "###### Choosing to use dropout layers:\n",
    "I chose to add dropout layers to help with overfitting the data, as it prevents all neurons in a lyaer from synchronously optimizing their weights. I experimented with the dropout range being between 10% and 50%, and found that that a rate of 40% produced the best results.\n",
    "\n",
    "###### Using an Early Stop:\n",
    "To prevent trial-and-error expirementation while choosing the right amount of epochs to train on, I added an early stopping callback so I could set epoch training length to an erbitrarily large number."
   ]
  },
  {
   "cell_type": "code",
   "execution_count": 82,
   "id": "aad6babe",
   "metadata": {},
   "outputs": [
    {
     "name": "stderr",
     "output_type": "stream",
     "text": [
      "2023-07-06 19:23:24.236918: I tensorflow/core/platform/cpu_feature_guard.cc:193] This TensorFlow binary is optimized with oneAPI Deep Neural Network Library (oneDNN) to use the following CPU instructions in performance-critical operations:  AVX2 FMA\n",
      "To enable them in other operations, rebuild TensorFlow with the appropriate compiler flags.\n"
     ]
    }
   ],
   "source": [
    "import tensorflow as tf\n",
    "from tensorflow.keras.models import Sequential\n",
    "from tensorflow.keras.layers import Dense, Activation, Dropout\n",
    "from tensorflow.keras.callbacks import EarlyStopping"
   ]
  },
  {
   "cell_type": "code",
   "execution_count": 83,
   "id": "7f897c5e",
   "metadata": {},
   "outputs": [
    {
     "name": "stderr",
     "output_type": "stream",
     "text": [
      "2023-07-06 19:23:31.865309: I tensorflow/core/platform/cpu_feature_guard.cc:193] This TensorFlow binary is optimized with oneAPI Deep Neural Network Library (oneDNN) to use the following CPU instructions in performance-critical operations:  AVX2 FMA\n",
      "To enable them in other operations, rebuild TensorFlow with the appropriate compiler flags.\n"
     ]
    }
   ],
   "source": [
    "model = Sequential()"
   ]
  },
  {
   "cell_type": "code",
   "execution_count": 84,
   "id": "fcfc360e",
   "metadata": {},
   "outputs": [],
   "source": [
    "model.add(Dense(78, activation='relu', name='input'))\n",
    "model.add(Dropout(0.4))\n",
    "\n",
    "model.add(Dense(39, activation='relu', name='hidden'))\n",
    "model.add(Dropout(0.4))\n",
    "\n",
    "model.add(Dense(1, activation='sigmoid', name='output'))\n",
    "\n",
    "model.compile(loss='binary_crossentropy', optimizer='adam')"
   ]
  },
  {
   "cell_type": "code",
   "execution_count": 85,
   "id": "e6910a4e",
   "metadata": {},
   "outputs": [],
   "source": [
    "early_stop = EarlyStopping(monitor='val_loss', mode='min', verbose=1, patience=25)"
   ]
  },
  {
   "cell_type": "code",
   "execution_count": 86,
   "id": "365b6606",
   "metadata": {
    "scrolled": true
   },
   "outputs": [
    {
     "name": "stdout",
     "output_type": "stream",
     "text": [
      "Epoch 1/500\n",
      "495/495 [==============================] - 3s 3ms/step - loss: 0.3670 - val_loss: 0.2732\n",
      "Epoch 2/500\n",
      "495/495 [==============================] - 1s 3ms/step - loss: 0.2844 - val_loss: 0.2637\n",
      "Epoch 3/500\n",
      "495/495 [==============================] - 1s 3ms/step - loss: 0.2743 - val_loss: 0.2606\n",
      "Epoch 4/500\n",
      "495/495 [==============================] - 1s 3ms/step - loss: 0.2699 - val_loss: 0.2599\n",
      "Epoch 5/500\n",
      "495/495 [==============================] - 1s 3ms/step - loss: 0.2668 - val_loss: 0.2594\n",
      "Epoch 6/500\n",
      "495/495 [==============================] - 1s 3ms/step - loss: 0.2653 - val_loss: 0.2585\n",
      "Epoch 7/500\n",
      "495/495 [==============================] - 1s 3ms/step - loss: 0.2641 - val_loss: 0.2587\n",
      "Epoch 8/500\n",
      "495/495 [==============================] - 1s 3ms/step - loss: 0.2634 - val_loss: 0.2582\n",
      "Epoch 9/500\n",
      "495/495 [==============================] - 1s 3ms/step - loss: 0.2617 - val_loss: 0.2574\n",
      "Epoch 10/500\n",
      "495/495 [==============================] - 1s 3ms/step - loss: 0.2608 - val_loss: 0.2579\n",
      "Epoch 11/500\n",
      "495/495 [==============================] - 1s 3ms/step - loss: 0.2604 - val_loss: 0.2577\n",
      "Epoch 12/500\n",
      "495/495 [==============================] - 1s 3ms/step - loss: 0.2595 - val_loss: 0.2578\n",
      "Epoch 13/500\n",
      "495/495 [==============================] - 1s 3ms/step - loss: 0.2591 - val_loss: 0.2571\n",
      "Epoch 14/500\n",
      "495/495 [==============================] - 2s 3ms/step - loss: 0.2586 - val_loss: 0.2567\n",
      "Epoch 15/500\n",
      "495/495 [==============================] - 1s 3ms/step - loss: 0.2588 - val_loss: 0.2570\n",
      "Epoch 16/500\n",
      "495/495 [==============================] - 1s 3ms/step - loss: 0.2577 - val_loss: 0.2573\n",
      "Epoch 17/500\n",
      "495/495 [==============================] - 1s 3ms/step - loss: 0.2575 - val_loss: 0.2582\n",
      "Epoch 18/500\n",
      "495/495 [==============================] - 1s 3ms/step - loss: 0.2574 - val_loss: 0.2584\n",
      "Epoch 19/500\n",
      "495/495 [==============================] - 1s 3ms/step - loss: 0.2569 - val_loss: 0.2573\n",
      "Epoch 20/500\n",
      "495/495 [==============================] - 2s 3ms/step - loss: 0.2566 - val_loss: 0.2577\n",
      "Epoch 21/500\n",
      "495/495 [==============================] - 1s 3ms/step - loss: 0.2565 - val_loss: 0.2573\n",
      "Epoch 22/500\n",
      "495/495 [==============================] - 1s 3ms/step - loss: 0.2557 - val_loss: 0.2581\n",
      "Epoch 23/500\n",
      "495/495 [==============================] - 1s 3ms/step - loss: 0.2551 - val_loss: 0.2576\n",
      "Epoch 24/500\n",
      "495/495 [==============================] - 1s 3ms/step - loss: 0.2547 - val_loss: 0.2577\n",
      "Epoch 25/500\n",
      "495/495 [==============================] - 1s 3ms/step - loss: 0.2548 - val_loss: 0.2584\n",
      "Epoch 26/500\n",
      "495/495 [==============================] - 1s 3ms/step - loss: 0.2535 - val_loss: 0.2578\n",
      "Epoch 27/500\n",
      "495/495 [==============================] - 1s 3ms/step - loss: 0.2530 - val_loss: 0.2591\n",
      "Epoch 28/500\n",
      "495/495 [==============================] - 1s 3ms/step - loss: 0.2535 - val_loss: 0.2586\n",
      "Epoch 29/500\n",
      "495/495 [==============================] - 1s 3ms/step - loss: 0.2532 - val_loss: 0.2587\n",
      "Epoch 30/500\n",
      "495/495 [==============================] - 1s 3ms/step - loss: 0.2522 - val_loss: 0.2587\n",
      "Epoch 31/500\n",
      "495/495 [==============================] - 1s 3ms/step - loss: 0.2529 - val_loss: 0.2590\n",
      "Epoch 32/500\n",
      "495/495 [==============================] - 1s 3ms/step - loss: 0.2518 - val_loss: 0.2583\n",
      "Epoch 33/500\n",
      "495/495 [==============================] - 1s 3ms/step - loss: 0.2518 - val_loss: 0.2601\n",
      "Epoch 34/500\n",
      "495/495 [==============================] - 1s 3ms/step - loss: 0.2523 - val_loss: 0.2599\n",
      "Epoch 35/500\n",
      "495/495 [==============================] - 1s 3ms/step - loss: 0.2523 - val_loss: 0.2596\n",
      "Epoch 36/500\n",
      "495/495 [==============================] - 1s 3ms/step - loss: 0.2507 - val_loss: 0.2597\n",
      "Epoch 37/500\n",
      "495/495 [==============================] - 1s 3ms/step - loss: 0.2506 - val_loss: 0.2601\n",
      "Epoch 38/500\n",
      "495/495 [==============================] - 1s 3ms/step - loss: 0.2514 - val_loss: 0.2608\n",
      "Epoch 39/500\n",
      "495/495 [==============================] - 1s 3ms/step - loss: 0.2506 - val_loss: 0.2608\n",
      "Epoch 39: early stopping\n"
     ]
    },
    {
     "data": {
      "text/plain": [
       "<keras.callbacks.History at 0x14a3c43d0>"
      ]
     },
     "execution_count": 86,
     "metadata": {},
     "output_type": "execute_result"
    }
   ],
   "source": [
    "model.fit(x=X_train,\n",
    "         y=y_train,\n",
    "         batch_size=128,\n",
    "         epochs=500,\n",
    "         validation_data=(X_test,y_test),\n",
    "         callbacks=[early_stop])"
   ]
  },
  {
   "cell_type": "code",
   "execution_count": 87,
   "id": "bcff7fe9",
   "metadata": {},
   "outputs": [
    {
     "data": {
      "text/plain": [
       "<AxesSubplot:>"
      ]
     },
     "execution_count": 87,
     "metadata": {},
     "output_type": "execute_result"
    },
    {
     "data": {
      "image/png": "[encoded data removed]",
      "text/plain": [
       "<Figure size 500x400 with 1 Axes>"
      ]
     },
     "metadata": {},
     "output_type": "display_data"
    }
   ],
   "source": [
    "model_loss = pd.DataFrame(model.history.history)\n",
    "model_loss.plot()"
   ]
  },
  {
   "cell_type": "code",
   "execution_count": 88,
   "id": "ade0f5fb",
   "metadata": {},
   "outputs": [],
   "source": [
    "from sklearn.metrics import classification_report,confusion_matrix"
   ]
  },
  {
   "cell_type": "markdown",
   "id": "4313a3f9",
   "metadata": {},
   "source": [
    "The performance of this model is not bad, but also not great. Since the model label is skewed, with 80% of loans being fully repaid, I am not fully satisfied with a percision of 90% as just guessing 'fully paid' for each classification would yeild a score of 80%. The recall score for charged off loans could also be much better. The cause for such a low score is most likley due to the imbalanced dataset."
   ]
  },
  {
   "cell_type": "code",
   "execution_count": 89,
   "id": "ae342768",
   "metadata": {},
   "outputs": [
    {
     "name": "stdout",
     "output_type": "stream",
     "text": [
      "495/495 [==============================] - 1s 1ms/step\n",
      "[[ 1412  1672]\n",
      " [   76 12649]]\n",
      "              precision    recall  f1-score   support\n",
      "\n",
      "           0       0.95      0.46      0.62      3084\n",
      "           1       0.88      0.99      0.94     12725\n",
      "\n",
      "    accuracy                           0.89     15809\n",
      "   macro avg       0.92      0.73      0.78     15809\n",
      "weighted avg       0.90      0.89      0.87     15809\n",
      "\n"
     ]
    }
   ],
   "source": [
    "predictions = (model.predict(X_test) > 0.5).astype('int32')\n",
    "\n",
    "print(confusion_matrix(y_test,predictions))\n",
    "print(classification_report(y_test,predictions))"
   ]
  },
  {
   "cell_type": "markdown",
   "id": "d1fd12f7",
   "metadata": {},
   "source": [
    "#### Trying RandomForestClassifier\n",
    "To see whether my NN model is at fault, I decided to try classifing the data using a Random Forest algorithm, but it did'nt produce and results that were significantly better than my NN."
   ]
  },
  {
   "cell_type": "code",
   "execution_count": 90,
   "id": "690770bf",
   "metadata": {},
   "outputs": [],
   "source": [
    "from sklearn.ensemble import RandomForestClassifier"
   ]
  },
  {
   "cell_type": "code",
   "execution_count": 91,
   "id": "9663a401",
   "metadata": {},
   "outputs": [],
   "source": [
    "rf = RandomForestClassifier(random_state=42)\n",
    "\n",
    "rf.fit(X_train, y_train)\n",
    "\n",
    "y_pred = rf.predict(X_test)"
   ]
  },
  {
   "cell_type": "code",
   "execution_count": 92,
   "id": "eef41dc6",
   "metadata": {},
   "outputs": [
    {
     "name": "stdout",
     "output_type": "stream",
     "text": [
      "[[ 1410  1674]\n",
      " [   51 12674]]\n",
      "              precision    recall  f1-score   support\n",
      "\n",
      "           0       0.97      0.46      0.62      3084\n",
      "           1       0.88      1.00      0.94     12725\n",
      "\n",
      "    accuracy                           0.89     15809\n",
      "   macro avg       0.92      0.73      0.78     15809\n",
      "weighted avg       0.90      0.89      0.87     15809\n",
      "\n"
     ]
    }
   ],
   "source": [
    "print(confusion_matrix(y_test,y_pred))\n",
    "print(classification_report(y_test,y_pred))"
   ]
  },
  {
   "cell_type": "markdown",
   "id": "331846c7",
   "metadata": {},
   "source": [
    "#### Implementing SMOTE\n",
    "Since I suspect the model's recall score is suffering due to it's imbalanced data, I decided to try implementing the synthetic minority over sampling technique, or SMOTE for short. Using this technique I am able to up the samples of the minority class while avoiding overfitting. Simplified, this technique does this by generating new synthetic samples close to other points.\n",
    "\n",
    "After adding these synthetic samples to the dataset, I will run the Random Forest Classifier and my NN model again to see if this will improve the recall score, therefore improving the overall model."
   ]
  },
  {
   "cell_type": "code",
   "execution_count": 93,
   "id": "e30d5adf",
   "metadata": {},
   "outputs": [],
   "source": [
    "from imblearn.over_sampling import SMOTE"
   ]
  },
  {
   "cell_type": "code",
   "execution_count": 94,
   "id": "eec9f5d8",
   "metadata": {},
   "outputs": [],
   "source": [
    "sm = SMOTE(random_state=42, k_neighbors=5)\n",
    "\n",
    "X_res, y_res = sm.fit_resample(scaler.fit_transform(X), y)"
   ]
  },
  {
   "cell_type": "code",
   "execution_count": 95,
   "id": "71b18a8a",
   "metadata": {},
   "outputs": [],
   "source": [
    "X_train, X_test, y_train, y_test = train_test_split(\n",
    "    X_res, y_res, test_size=0.2, random_state=42)\n",
    "\n",
    "rf = RandomForestClassifier(random_state=42)\n",
    "rf.fit(X_train, y_train)\n",
    "\n",
    "y_pred = rf.predict(X_test)"
   ]
  },
  {
   "cell_type": "markdown",
   "id": "47edb8e0",
   "metadata": {},
   "source": [
    "#### Success!\n",
    "It looks like the recall score for the minority (charged off loans) class was greatly improved!"
   ]
  },
  {
   "cell_type": "code",
   "execution_count": 96,
   "id": "cb315056",
   "metadata": {},
   "outputs": [
    {
     "name": "stdout",
     "output_type": "stream",
     "text": [
      "[[11451  1280]\n",
      " [  565 12154]]\n",
      "              precision    recall  f1-score   support\n",
      "\n",
      "           0       0.95      0.90      0.93     12731\n",
      "           1       0.90      0.96      0.93     12719\n",
      "\n",
      "    accuracy                           0.93     25450\n",
      "   macro avg       0.93      0.93      0.93     25450\n",
      "weighted avg       0.93      0.93      0.93     25450\n",
      "\n"
     ]
    }
   ],
   "source": [
    "print(confusion_matrix(y_test,y_pred))\n",
    "print(classification_report(y_test,y_pred))"
   ]
  },
  {
   "cell_type": "code",
   "execution_count": 97,
   "id": "d1a22c2c",
   "metadata": {
    "scrolled": true
   },
   "outputs": [
    {
     "name": "stdout",
     "output_type": "stream",
     "text": [
      "Epoch 1/500\n",
      "796/796 [==============================] - 2s 3ms/step - loss: 0.3499 - val_loss: 0.3317\n",
      "Epoch 2/500\n",
      "796/796 [==============================] - 3s 3ms/step - loss: 0.3422 - val_loss: 0.3306\n",
      "Epoch 3/500\n",
      "796/796 [==============================] - 2s 3ms/step - loss: 0.3383 - val_loss: 0.3277\n",
      "Epoch 4/500\n",
      "796/796 [==============================] - 3s 3ms/step - loss: 0.3364 - val_loss: 0.3262\n",
      "Epoch 5/500\n",
      "796/796 [==============================] - 3s 3ms/step - loss: 0.3343 - val_loss: 0.3256\n",
      "Epoch 6/500\n",
      "796/796 [==============================] - 3s 3ms/step - loss: 0.3331 - val_loss: 0.3237\n",
      "Epoch 7/500\n",
      "796/796 [==============================] - 2s 3ms/step - loss: 0.3316 - val_loss: 0.3254\n",
      "Epoch 8/500\n",
      "796/796 [==============================] - 2s 3ms/step - loss: 0.3294 - val_loss: 0.3234\n",
      "Epoch 9/500\n",
      "796/796 [==============================] - 3s 3ms/step - loss: 0.3282 - val_loss: 0.3199\n",
      "Epoch 10/500\n",
      "796/796 [==============================] - 2s 3ms/step - loss: 0.3277 - val_loss: 0.3205\n",
      "Epoch 11/500\n",
      "796/796 [==============================] - 3s 3ms/step - loss: 0.3274 - val_loss: 0.3213\n",
      "Epoch 12/500\n",
      "796/796 [==============================] - 2s 3ms/step - loss: 0.3255 - val_loss: 0.3202\n",
      "Epoch 13/500\n",
      "796/796 [==============================] - 2s 3ms/step - loss: 0.3265 - val_loss: 0.3193\n",
      "Epoch 14/500\n",
      "796/796 [==============================] - 2s 3ms/step - loss: 0.3252 - val_loss: 0.3187\n",
      "Epoch 15/500\n",
      "796/796 [==============================] - 2s 3ms/step - loss: 0.3242 - val_loss: 0.3200\n",
      "Epoch 16/500\n",
      "796/796 [==============================] - 2s 3ms/step - loss: 0.3230 - val_loss: 0.3182\n",
      "Epoch 17/500\n",
      "796/796 [==============================] - 2s 3ms/step - loss: 0.3233 - val_loss: 0.3174\n",
      "Epoch 18/500\n",
      "796/796 [==============================] - 2s 3ms/step - loss: 0.3219 - val_loss: 0.3174\n",
      "Epoch 19/500\n",
      "796/796 [==============================] - 2s 3ms/step - loss: 0.3212 - val_loss: 0.3168\n",
      "Epoch 20/500\n",
      "796/796 [==============================] - 2s 3ms/step - loss: 0.3206 - val_loss: 0.3158\n",
      "Epoch 21/500\n",
      "796/796 [==============================] - 2s 3ms/step - loss: 0.3206 - val_loss: 0.3169\n",
      "Epoch 22/500\n",
      "796/796 [==============================] - 2s 3ms/step - loss: 0.3204 - val_loss: 0.3155\n",
      "Epoch 23/500\n",
      "796/796 [==============================] - 2s 3ms/step - loss: 0.3200 - val_loss: 0.3158\n",
      "Epoch 24/500\n",
      "796/796 [==============================] - 2s 3ms/step - loss: 0.3192 - val_loss: 0.3158\n",
      "Epoch 25/500\n",
      "796/796 [==============================] - 2s 3ms/step - loss: 0.3172 - val_loss: 0.3131\n",
      "Epoch 26/500\n",
      "796/796 [==============================] - 2s 3ms/step - loss: 0.3177 - val_loss: 0.3137\n",
      "Epoch 27/500\n",
      "796/796 [==============================] - 2s 3ms/step - loss: 0.3176 - val_loss: 0.3124\n",
      "Epoch 28/500\n",
      "796/796 [==============================] - 2s 3ms/step - loss: 0.3168 - val_loss: 0.3122\n",
      "Epoch 29/500\n",
      "796/796 [==============================] - 2s 3ms/step - loss: 0.3176 - val_loss: 0.3138\n",
      "Epoch 30/500\n",
      "796/796 [==============================] - 2s 3ms/step - loss: 0.3164 - val_loss: 0.3115\n",
      "Epoch 31/500\n",
      "796/796 [==============================] - 2s 3ms/step - loss: 0.3163 - val_loss: 0.3120\n",
      "Epoch 32/500\n",
      "796/796 [==============================] - 2s 3ms/step - loss: 0.3154 - val_loss: 0.3123\n",
      "Epoch 33/500\n",
      "796/796 [==============================] - 2s 3ms/step - loss: 0.3149 - val_loss: 0.3106\n",
      "Epoch 34/500\n",
      "796/796 [==============================] - 2s 3ms/step - loss: 0.3144 - val_loss: 0.3118\n",
      "Epoch 35/500\n",
      "796/796 [==============================] - 2s 3ms/step - loss: 0.3148 - val_loss: 0.3115\n",
      "Epoch 36/500\n",
      "796/796 [==============================] - 2s 3ms/step - loss: 0.3150 - val_loss: 0.3112\n",
      "Epoch 37/500\n",
      "796/796 [==============================] - 2s 3ms/step - loss: 0.3146 - val_loss: 0.3118\n",
      "Epoch 38/500\n",
      "796/796 [==============================] - 2s 3ms/step - loss: 0.3124 - val_loss: 0.3104\n",
      "Epoch 39/500\n",
      "796/796 [==============================] - 2s 3ms/step - loss: 0.3145 - val_loss: 0.3106\n",
      "Epoch 40/500\n",
      "796/796 [==============================] - 2s 3ms/step - loss: 0.3135 - val_loss: 0.3101\n",
      "Epoch 41/500\n",
      "796/796 [==============================] - 2s 3ms/step - loss: 0.3123 - val_loss: 0.3088\n",
      "Epoch 42/500\n",
      "796/796 [==============================] - 2s 3ms/step - loss: 0.3122 - val_loss: 0.3096\n",
      "Epoch 43/500\n",
      "796/796 [==============================] - 2s 3ms/step - loss: 0.3120 - val_loss: 0.3099\n",
      "Epoch 44/500\n",
      "796/796 [==============================] - 2s 3ms/step - loss: 0.3121 - val_loss: 0.3097\n",
      "Epoch 45/500\n",
      "796/796 [==============================] - 2s 3ms/step - loss: 0.3124 - val_loss: 0.3096\n",
      "Epoch 46/500\n",
      "796/796 [==============================] - 2s 3ms/step - loss: 0.3113 - val_loss: 0.3092\n",
      "Epoch 47/500\n",
      "796/796 [==============================] - 2s 3ms/step - loss: 0.3114 - val_loss: 0.3105\n",
      "Epoch 48/500\n",
      "796/796 [==============================] - 2s 3ms/step - loss: 0.3116 - val_loss: 0.3104\n",
      "Epoch 49/500\n",
      "796/796 [==============================] - 2s 3ms/step - loss: 0.3123 - val_loss: 0.3096\n",
      "Epoch 50/500\n",
      "796/796 [==============================] - 2s 3ms/step - loss: 0.3116 - val_loss: 0.3095\n",
      "Epoch 51/500\n",
      "796/796 [==============================] - 2s 3ms/step - loss: 0.3101 - val_loss: 0.3103\n",
      "Epoch 52/500\n",
      "796/796 [==============================] - 2s 3ms/step - loss: 0.3102 - val_loss: 0.3096\n",
      "Epoch 53/500\n",
      "796/796 [==============================] - 2s 3ms/step - loss: 0.3100 - val_loss: 0.3115\n",
      "Epoch 54/500\n",
      "796/796 [==============================] - 2s 3ms/step - loss: 0.3109 - val_loss: 0.3085\n",
      "Epoch 55/500\n",
      "796/796 [==============================] - 2s 3ms/step - loss: 0.3105 - val_loss: 0.3086\n",
      "Epoch 56/500\n",
      "796/796 [==============================] - 2s 3ms/step - loss: 0.3093 - val_loss: 0.3085\n",
      "Epoch 57/500\n",
      "796/796 [==============================] - 2s 3ms/step - loss: 0.3083 - val_loss: 0.3072\n",
      "Epoch 58/500\n",
      "796/796 [==============================] - 2s 3ms/step - loss: 0.3095 - val_loss: 0.3084\n",
      "Epoch 59/500\n",
      "796/796 [==============================] - 2s 3ms/step - loss: 0.3098 - val_loss: 0.3081\n",
      "Epoch 60/500\n",
      "796/796 [==============================] - 2s 3ms/step - loss: 0.3095 - val_loss: 0.3063\n",
      "Epoch 61/500\n",
      "796/796 [==============================] - 2s 3ms/step - loss: 0.3077 - val_loss: 0.3068\n",
      "Epoch 62/500\n",
      "796/796 [==============================] - 2s 3ms/step - loss: 0.3098 - val_loss: 0.3078\n",
      "Epoch 63/500\n",
      "796/796 [==============================] - 2s 3ms/step - loss: 0.3093 - val_loss: 0.3070\n",
      "Epoch 64/500\n",
      "796/796 [==============================] - 2s 3ms/step - loss: 0.3081 - val_loss: 0.3061\n",
      "Epoch 65/500\n",
      "796/796 [==============================] - 2s 3ms/step - loss: 0.3087 - val_loss: 0.3073\n",
      "Epoch 66/500\n",
      "796/796 [==============================] - 2s 3ms/step - loss: 0.3081 - val_loss: 0.3074\n",
      "Epoch 67/500\n",
      "796/796 [==============================] - 2s 3ms/step - loss: 0.3083 - val_loss: 0.3066\n",
      "Epoch 68/500\n",
      "796/796 [==============================] - 2s 3ms/step - loss: 0.3073 - val_loss: 0.3079\n",
      "Epoch 69/500\n",
      "796/796 [==============================] - 2s 3ms/step - loss: 0.3081 - val_loss: 0.3075\n",
      "Epoch 70/500\n",
      "796/796 [==============================] - 2s 3ms/step - loss: 0.3085 - val_loss: 0.3075\n",
      "Epoch 71/500\n",
      "796/796 [==============================] - 2s 3ms/step - loss: 0.3073 - val_loss: 0.3084\n",
      "Epoch 72/500\n",
      "796/796 [==============================] - 2s 3ms/step - loss: 0.3066 - val_loss: 0.3061\n",
      "Epoch 73/500\n",
      "796/796 [==============================] - 2s 3ms/step - loss: 0.3074 - val_loss: 0.3054\n",
      "Epoch 74/500\n",
      "796/796 [==============================] - 2s 3ms/step - loss: 0.3066 - val_loss: 0.3062\n",
      "Epoch 75/500\n",
      "796/796 [==============================] - 2s 3ms/step - loss: 0.3070 - val_loss: 0.3061\n",
      "Epoch 76/500\n",
      "796/796 [==============================] - 2s 3ms/step - loss: 0.3073 - val_loss: 0.3065\n",
      "Epoch 77/500\n",
      "796/796 [==============================] - 2s 3ms/step - loss: 0.3075 - val_loss: 0.3068\n",
      "Epoch 78/500\n",
      "796/796 [==============================] - 2s 3ms/step - loss: 0.3079 - val_loss: 0.3052\n",
      "Epoch 79/500\n",
      "796/796 [==============================] - 2s 3ms/step - loss: 0.3066 - val_loss: 0.3056\n",
      "Epoch 80/500\n",
      "796/796 [==============================] - 2s 3ms/step - loss: 0.3081 - val_loss: 0.3063\n",
      "Epoch 81/500\n"
     ]
    },
    {
     "name": "stdout",
     "output_type": "stream",
     "text": [
      "796/796 [==============================] - 2s 3ms/step - loss: 0.3067 - val_loss: 0.3044\n",
      "Epoch 82/500\n",
      "796/796 [==============================] - 2s 3ms/step - loss: 0.3059 - val_loss: 0.3053\n",
      "Epoch 83/500\n",
      "796/796 [==============================] - 2s 3ms/step - loss: 0.3072 - val_loss: 0.3061\n",
      "Epoch 84/500\n",
      "796/796 [==============================] - 2s 3ms/step - loss: 0.3056 - val_loss: 0.3058\n",
      "Epoch 85/500\n",
      "796/796 [==============================] - 2s 3ms/step - loss: 0.3061 - val_loss: 0.3057\n",
      "Epoch 86/500\n",
      "796/796 [==============================] - 2s 3ms/step - loss: 0.3050 - val_loss: 0.3050\n",
      "Epoch 87/500\n",
      "796/796 [==============================] - 2s 3ms/step - loss: 0.3050 - val_loss: 0.3044\n",
      "Epoch 88/500\n",
      "796/796 [==============================] - 2s 3ms/step - loss: 0.3054 - val_loss: 0.3045\n",
      "Epoch 89/500\n",
      "796/796 [==============================] - 2s 3ms/step - loss: 0.3030 - val_loss: 0.3059\n",
      "Epoch 90/500\n",
      "796/796 [==============================] - 2s 3ms/step - loss: 0.3060 - val_loss: 0.3050\n",
      "Epoch 91/500\n",
      "796/796 [==============================] - 2s 3ms/step - loss: 0.3049 - val_loss: 0.3051\n",
      "Epoch 92/500\n",
      "796/796 [==============================] - 2s 3ms/step - loss: 0.3049 - val_loss: 0.3042\n",
      "Epoch 93/500\n",
      "796/796 [==============================] - 2s 3ms/step - loss: 0.3054 - val_loss: 0.3049\n",
      "Epoch 94/500\n",
      "796/796 [==============================] - 2s 3ms/step - loss: 0.3047 - val_loss: 0.3051\n",
      "Epoch 95/500\n",
      "796/796 [==============================] - 2s 3ms/step - loss: 0.3043 - val_loss: 0.3050\n",
      "Epoch 96/500\n",
      "796/796 [==============================] - 2s 3ms/step - loss: 0.3046 - val_loss: 0.3051\n",
      "Epoch 97/500\n",
      "796/796 [==============================] - 2s 3ms/step - loss: 0.3040 - val_loss: 0.3048\n",
      "Epoch 98/500\n",
      "796/796 [==============================] - 2s 3ms/step - loss: 0.3041 - val_loss: 0.3040\n",
      "Epoch 99/500\n",
      "796/796 [==============================] - 2s 3ms/step - loss: 0.3051 - val_loss: 0.3042\n",
      "Epoch 100/500\n",
      "796/796 [==============================] - 2s 3ms/step - loss: 0.3032 - val_loss: 0.3024\n",
      "Epoch 101/500\n",
      "796/796 [==============================] - 2s 3ms/step - loss: 0.3040 - val_loss: 0.3037\n",
      "Epoch 102/500\n",
      "796/796 [==============================] - 2s 3ms/step - loss: 0.3038 - val_loss: 0.3037\n",
      "Epoch 103/500\n",
      "796/796 [==============================] - 3s 3ms/step - loss: 0.3035 - val_loss: 0.3044\n",
      "Epoch 104/500\n",
      "796/796 [==============================] - 2s 3ms/step - loss: 0.3044 - val_loss: 0.3035\n",
      "Epoch 105/500\n",
      "796/796 [==============================] - 2s 3ms/step - loss: 0.3028 - val_loss: 0.3041\n",
      "Epoch 106/500\n",
      "796/796 [==============================] - 2s 3ms/step - loss: 0.3032 - val_loss: 0.3031\n",
      "Epoch 107/500\n",
      "796/796 [==============================] - 2s 3ms/step - loss: 0.3041 - val_loss: 0.3045\n",
      "Epoch 108/500\n",
      "796/796 [==============================] - 2s 3ms/step - loss: 0.3038 - val_loss: 0.3044\n",
      "Epoch 109/500\n",
      "796/796 [==============================] - 2s 3ms/step - loss: 0.3031 - val_loss: 0.3048\n",
      "Epoch 110/500\n",
      "796/796 [==============================] - 2s 3ms/step - loss: 0.3032 - val_loss: 0.3049\n",
      "Epoch 111/500\n",
      "796/796 [==============================] - 2s 3ms/step - loss: 0.3045 - val_loss: 0.3032\n",
      "Epoch 112/500\n",
      "796/796 [==============================] - 2s 3ms/step - loss: 0.3030 - val_loss: 0.3037\n",
      "Epoch 113/500\n",
      "796/796 [==============================] - 2s 3ms/step - loss: 0.3036 - val_loss: 0.3055\n",
      "Epoch 114/500\n",
      "796/796 [==============================] - 2s 3ms/step - loss: 0.3038 - val_loss: 0.3038\n",
      "Epoch 115/500\n",
      "796/796 [==============================] - 2s 3ms/step - loss: 0.3027 - val_loss: 0.3029\n",
      "Epoch 116/500\n",
      "796/796 [==============================] - 2s 3ms/step - loss: 0.3021 - val_loss: 0.3032\n",
      "Epoch 117/500\n",
      "796/796 [==============================] - 2s 3ms/step - loss: 0.3021 - val_loss: 0.3028\n",
      "Epoch 118/500\n",
      "796/796 [==============================] - 2s 3ms/step - loss: 0.3031 - val_loss: 0.3036\n",
      "Epoch 119/500\n",
      "796/796 [==============================] - 2s 3ms/step - loss: 0.3027 - val_loss: 0.3035\n",
      "Epoch 120/500\n",
      "796/796 [==============================] - 3s 3ms/step - loss: 0.3029 - val_loss: 0.3026\n",
      "Epoch 121/500\n",
      "796/796 [==============================] - 2s 3ms/step - loss: 0.3016 - val_loss: 0.3033\n",
      "Epoch 122/500\n",
      "796/796 [==============================] - 2s 3ms/step - loss: 0.3030 - val_loss: 0.3017\n",
      "Epoch 123/500\n",
      "796/796 [==============================] - 2s 3ms/step - loss: 0.3023 - val_loss: 0.3030\n",
      "Epoch 124/500\n",
      "796/796 [==============================] - 2s 3ms/step - loss: 0.3023 - val_loss: 0.3025\n",
      "Epoch 125/500\n",
      "796/796 [==============================] - 2s 3ms/step - loss: 0.3022 - val_loss: 0.3032\n",
      "Epoch 126/500\n",
      "796/796 [==============================] - 2s 3ms/step - loss: 0.3007 - val_loss: 0.3015\n",
      "Epoch 127/500\n",
      "796/796 [==============================] - 2s 3ms/step - loss: 0.3020 - val_loss: 0.3027\n",
      "Epoch 128/500\n",
      "796/796 [==============================] - 2s 3ms/step - loss: 0.3016 - val_loss: 0.3024\n",
      "Epoch 129/500\n",
      "796/796 [==============================] - 2s 3ms/step - loss: 0.3025 - val_loss: 0.3029\n",
      "Epoch 130/500\n",
      "796/796 [==============================] - 2s 3ms/step - loss: 0.3015 - val_loss: 0.3033\n",
      "Epoch 131/500\n",
      "796/796 [==============================] - 2s 3ms/step - loss: 0.3025 - val_loss: 0.3037\n",
      "Epoch 132/500\n",
      "796/796 [==============================] - 2s 3ms/step - loss: 0.3005 - val_loss: 0.3005\n",
      "Epoch 133/500\n",
      "796/796 [==============================] - 2s 3ms/step - loss: 0.3006 - val_loss: 0.3017\n",
      "Epoch 134/500\n",
      "796/796 [==============================] - 2s 3ms/step - loss: 0.3018 - val_loss: 0.3024\n",
      "Epoch 135/500\n",
      "796/796 [==============================] - 2s 3ms/step - loss: 0.3016 - val_loss: 0.3023\n",
      "Epoch 136/500\n",
      "796/796 [==============================] - 2s 3ms/step - loss: 0.3001 - val_loss: 0.3027\n",
      "Epoch 137/500\n",
      "796/796 [==============================] - 2s 3ms/step - loss: 0.3026 - val_loss: 0.3015\n",
      "Epoch 138/500\n",
      "796/796 [==============================] - 2s 3ms/step - loss: 0.3021 - val_loss: 0.3021\n",
      "Epoch 139/500\n",
      "796/796 [==============================] - 2s 3ms/step - loss: 0.3023 - val_loss: 0.3026\n",
      "Epoch 140/500\n",
      "796/796 [==============================] - 2s 3ms/step - loss: 0.3008 - val_loss: 0.3014\n",
      "Epoch 141/500\n",
      "796/796 [==============================] - 2s 3ms/step - loss: 0.3010 - val_loss: 0.3018\n",
      "Epoch 142/500\n",
      "796/796 [==============================] - 2s 3ms/step - loss: 0.3010 - val_loss: 0.3032\n",
      "Epoch 143/500\n",
      "796/796 [==============================] - 2s 3ms/step - loss: 0.3021 - val_loss: 0.3016\n",
      "Epoch 144/500\n",
      "796/796 [==============================] - 2s 3ms/step - loss: 0.3013 - val_loss: 0.3028\n",
      "Epoch 145/500\n",
      "796/796 [==============================] - 2s 3ms/step - loss: 0.3006 - val_loss: 0.3021\n",
      "Epoch 146/500\n",
      "796/796 [==============================] - 2s 3ms/step - loss: 0.3008 - val_loss: 0.3018\n",
      "Epoch 147/500\n",
      "796/796 [==============================] - 2s 3ms/step - loss: 0.3004 - val_loss: 0.3010\n",
      "Epoch 148/500\n",
      "796/796 [==============================] - 2s 3ms/step - loss: 0.3012 - val_loss: 0.3006\n",
      "Epoch 149/500\n",
      "796/796 [==============================] - 2s 3ms/step - loss: 0.3005 - val_loss: 0.3022\n",
      "Epoch 150/500\n",
      "796/796 [==============================] - 2s 3ms/step - loss: 0.3005 - val_loss: 0.3030\n",
      "Epoch 151/500\n",
      "796/796 [==============================] - 2s 3ms/step - loss: 0.3005 - val_loss: 0.3024\n",
      "Epoch 152/500\n",
      "796/796 [==============================] - 2s 3ms/step - loss: 0.3008 - val_loss: 0.3015\n",
      "Epoch 153/500\n",
      "796/796 [==============================] - 2s 3ms/step - loss: 0.3011 - val_loss: 0.3035\n",
      "Epoch 154/500\n",
      "796/796 [==============================] - 2s 3ms/step - loss: 0.3005 - val_loss: 0.3006\n",
      "Epoch 155/500\n",
      "796/796 [==============================] - 2s 3ms/step - loss: 0.3005 - val_loss: 0.3016\n",
      "Epoch 156/500\n",
      "796/796 [==============================] - 2s 3ms/step - loss: 0.2999 - val_loss: 0.3018\n",
      "Epoch 157/500\n",
      "796/796 [==============================] - 2s 3ms/step - loss: 0.2990 - val_loss: 0.3020\n",
      "Epoch 157: early stopping\n"
     ]
    },
    {
     "data": {
      "text/plain": [
       "<keras.callbacks.History at 0x131e449d0>"
      ]
     },
     "execution_count": 97,
     "metadata": {},
     "output_type": "execute_result"
    }
   ],
   "source": [
    "model.fit(x=X_train,\n",
    "         y=y_train,\n",
    "         batch_size=128,\n",
    "         epochs=500,\n",
    "         validation_data=(X_test,y_test),\n",
    "         callbacks=[early_stop])"
   ]
  },
  {
   "cell_type": "code",
   "execution_count": 98,
   "id": "9ffce88d",
   "metadata": {},
   "outputs": [
    {
     "data": {
      "text/plain": [
       "<AxesSubplot:>"
      ]
     },
     "execution_count": 98,
     "metadata": {},
     "output_type": "execute_result"
    },
    {
     "data": {
      "image/png": "[encoded data removed]",
      "text/plain": [
       "<Figure size 500x400 with 1 Axes>"
      ]
     },
     "metadata": {},
     "output_type": "display_data"
    }
   ],
   "source": [
    "model_loss = pd.DataFrame(model.history.history)\n",
    "model_loss.plot()"
   ]
  },
  {
   "cell_type": "markdown",
   "id": "95dcb037",
   "metadata": {},
   "source": [
    "Using SMOTE with my NN has lowered percision for both classes and recall for the majority class as a tradeoff for increasing recall for the minority class. This was unexpected and the overall f1-score is now lower as a result of this, interesting!"
   ]
  },
  {
   "cell_type": "code",
   "execution_count": 99,
   "id": "e52a50f3",
   "metadata": {},
   "outputs": [
    {
     "name": "stdout",
     "output_type": "stream",
     "text": [
      "796/796 [==============================] - 1s 2ms/step\n",
      "[[10967  1764]\n",
      " [ 2005 10714]]\n",
      "              precision    recall  f1-score   support\n",
      "\n",
      "           0       0.85      0.86      0.85     12731\n",
      "           1       0.86      0.84      0.85     12719\n",
      "\n",
      "    accuracy                           0.85     25450\n",
      "   macro avg       0.85      0.85      0.85     25450\n",
      "weighted avg       0.85      0.85      0.85     25450\n",
      "\n"
     ]
    }
   ],
   "source": [
    "predictions = (model.predict(X_test) > 0.5).astype('int32')\n",
    "\n",
    "print(confusion_matrix(y_test,predictions))\n",
    "print(classification_report(y_test,predictions))"
   ]
  },
  {
   "cell_type": "markdown",
   "id": "c3811784",
   "metadata": {},
   "source": [
    "## Conclusion\n",
    "Although my NN model underperformed compared to the results from the Random Forrest Classifier, I am satisfied with my final results for this project. I am sure I could find ways to continue improving performance had I chosen to continue with this project. \n",
    "\n",
    "#### If I were to re-do this project...\n",
    "I would check whether the data is linearly separable using a Support Vector Machine. This is a desireable, yet rare, attribute for datasets to have.\n",
    "\n",
    "I have read that a NN model does not need to have a hidden layer if data is linearly seperable, or a NN is not even needed at all to resolve the data. Solving for linear seperability would help make these decisions and maybe help choose to use a Random Forrest Classifier from the get-go.\n",
    "\n",
    "I also learned that implementing a single-layer perceptron + sigmoid function using binary cross-entropy, is pretty much a logistic regression model, which is a linear model. It would therefore make sense why this classifier model would not need a hidden layer. If the data was not linearly seperable, a linear model like such would not perform well, and therefore need a hidden layer. "
   ]
  },
  {
   "cell_type": "markdown",
   "id": "b696299b",
   "metadata": {},
   "source": [
    "## Thank you for taking the time to read through my project!"
   ]
  }
 ],
 "metadata": {
  "kernelspec": {
   "display_name": "Python 3 (ipykernel)",
   "language": "python",
   "name": "python3"
  },
  "language_info": {
   "codemirror_mode": {
    "name": "ipython",
    "version": 3
   },
   "file_extension": ".py",
   "mimetype": "text/x-python",
   "name": "python",
   "nbconvert_exporter": "python",
   "pygments_lexer": "ipython3",
   "version": "3.9.13"
  }
 },
 "nbformat": 4,
 "nbformat_minor": 5
}
